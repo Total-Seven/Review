{
 "cells": [
  {
   "cell_type": "markdown",
   "id": "442a40a7",
   "metadata": {},
   "source": [
    "## HTTP：是服务器和客户端传输文本的通信协议"
   ]
  },
  {
   "cell_type": "code",
   "execution_count": null,
   "id": "f20d9de0",
   "metadata": {},
   "outputs": [],
   "source": [
    "import requests as r"
   ]
  },
  {
   "cell_type": "code",
   "execution_count": null,
   "id": "8666fd69",
   "metadata": {},
   "outputs": [],
   "source": [
    "res = r.get(\"https://www.qq.com\")"
   ]
  },
  {
   "cell_type": "raw",
   "id": "072abc16",
   "metadata": {},
   "source": []
  },
  {
   "cell_type": "code",
   "execution_count": null,
   "id": "c75f3485",
   "metadata": {},
   "outputs": [],
   "source": []
  }
 ],
 "metadata": {
  "kernelspec": {
   "display_name": "Python 3 (ipykernel)",
   "language": "python",
   "name": "python3"
  },
  "language_info": {
   "codemirror_mode": {
    "name": "ipython",
    "version": 3
   },
   "file_extension": ".py",
   "mimetype": "text/x-python",
   "name": "python",
   "nbconvert_exporter": "python",
   "pygments_lexer": "ipython3",
   "version": "3.11.4"
  }
 },
 "nbformat": 4,
 "nbformat_minor": 5
}
