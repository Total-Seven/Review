{
 "cells": [
  {
   "cell_type": "markdown",
   "metadata": {},
   "source": [
    "# emoji"
   ]
  },
  {
   "cell_type": "code",
   "execution_count": 16,
   "metadata": {},
   "outputs": [
    {
     "data": {
      "text/html": [
       "<pre style=\"white-space:pre;overflow-x:auto;line-height:normal;font-family:Menlo,'DejaVu Sans Mono',consolas,'Courier New',monospace\">👋 hello Python， My name is Rock🙋‍♂️，I like eat hamburger🍔.\n",
       "</pre>\n"
      ],
      "text/plain": [
       "👋 hello Python， My name is Rock🙋‍♂️，I like eat hamburger🍔.\n"
      ]
     },
     "metadata": {},
     "output_type": "display_data"
    },
    {
     "data": {
      "text/html": [
       "<pre style=\"white-space:pre;overflow-x:auto;line-height:normal;font-family:Menlo,'DejaVu Sans Mono',consolas,'Courier New',monospace\">I expect that I can master python🐍， this is my goal🏳️‍🌈.\n",
       "</pre>\n"
      ],
      "text/plain": [
       "I expect that I can master python🐍， this is my goal🏳️‍🌈.\n"
      ]
     },
     "metadata": {},
     "output_type": "display_data"
    }
   ],
   "source": [
    "from rich.console import Console\n",
    "\n",
    "c = Console()\n",
    "c.print(\":waving_hand: hello Python， My name is Rock:Man_Raising_Hand:，I like eat hamburger:hamburger:.\")\n",
    "c.print(\"I expect that I can master python:snake:， this is my goal:Rainbow_flag:.\")\n"
   ]
  },
  {
   "cell_type": "markdown",
   "metadata": {},
   "source": [
    "***"
   ]
  },
  {
   "cell_type": "markdown",
   "metadata": {},
   "source": [
    "> [`点我查看更多有趣的Emoji！`](https://emojipedia.org/)"
   ]
  }
 ],
 "metadata": {
  "kernelspec": {
   "display_name": "Python 3",
   "language": "python",
   "name": "python3"
  },
  "language_info": {
   "codemirror_mode": {
    "name": "ipython",
    "version": 3
   },
   "file_extension": ".py",
   "mimetype": "text/x-python",
   "name": "python",
   "nbconvert_exporter": "python",
   "pygments_lexer": "ipython3",
   "version": "3.11.5"
  }
 },
 "nbformat": 4,
 "nbformat_minor": 2
}
