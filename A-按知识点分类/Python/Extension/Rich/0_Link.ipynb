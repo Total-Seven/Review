{
 "cells": [
  {
   "cell_type": "markdown",
   "metadata": {},
   "source": [
    "# Link"
   ]
  },
  {
   "cell_type": "markdown",
   "metadata": {},
   "source": [
    "###  [ 0. Rich's Github](https://github.com/textualize/rich/blob/master/README.cn.md)\n",
    "*   [Rich庫内容](https://github.com/textualize/rich/blob/master/README.cn.md#rich-%E5%BA%93%E5%86%85%E5%AE%B9)\n",
    "    * 日志（Log）\n",
    "    * 日志处理器（Logging Handler）\n",
    "    * Emoji 表情\n",
    "    * 表格（Tables）\n",
    "    * 进度条（Progress Bars）\n",
    "    * 状态动画（Status）\n",
    "    * 树（Tree）\n",
    "    * 列（Columns）\n",
    "    * Markdown\n",
    "    * 语法高亮（Syntax Highlighting）\n",
    "    * 栈回溯信息（Tracebacks）\n"
   ]
  },
  {
   "cell_type": "markdown",
   "metadata": {},
   "source": [
    "###  [ 1. Rich’s documentation](https://rich.readthedocs.io/en/latest/)\n",
    "###  [ 2. rich: introduction](https://calmcode.io/rich/introduction.html)"
   ]
  },
  {
   "cell_type": "markdown",
   "metadata": {},
   "source": [
    "# 使用 Rich 的项目\n",
    "这里是一些使用 Rich 的项目:"
   ]
  },
  {
   "cell_type": "markdown",
   "metadata": {},
   "source": [
    "- [BrancoLab/BrainRender](https://github.com/BrancoLab/BrainRender)\n",
    "  一个用于三维神经解剖数据可视化的 python 包\n",
    "- [Ciphey/Ciphey](https://github.com/Ciphey/Ciphey)\n",
    "  自动解密工具\n",
    "- [emeryberger/scalene](https://github.com/emeryberger/scalene)\n",
    "  一个高性能、高精度的 Python CPU 和内存剖析器\n",
    "- [hedythedev/StarCli](https://github.com/hedythedev/starcli)\n",
    "  通过命令行浏览 GitHub 热门项目\n",
    "- [intel/cve-bin-tool](https://github.com/intel/cve-bin-tool)\n",
    "  这个工具可以扫描一些常见的、有漏洞的组件（openssl、libpng、libxml2、expat和其他一些组件），让你知道你的系统是否包含有已知漏洞的常用库。\n",
    "- [nf-core/tools](https://github.com/nf)\n",
    "  包含 nf-core 社区帮助工具的 Python 包\n",
    "- [cansarigol/pdbr](https://github.com/cansarigol/pdbr)\n",
    "  pdb + rich 的库，增强调试功能\n",
    "- [plant99/felicette](https://github.com/plant99/felicette)\n",
    "  傻瓜式卫星图像\n",
    "- [seleniumbase/SeleniumBase](https://github.com/seleniumbase/SeleniumBase)\n",
    "  使用 Selenium 和 pytest 使自动化和测试速度提高10倍，包括电池\n",
    "- [smacke/ffsubsync](https://github.com/smacke/ffsubsync)\n",
    "  自动将字幕与视频同步\n",
    "- [tryolabs/norfair](https://github.com/tryolabs/norfair)\n",
    "  轻量级 Python 库，用于向任何检测器添加实时 2D 对象跟踪\n",
    "- +[还有很多](https://github.com/textualize/rich/network/dependents)!"
   ]
  },
  {
   "cell_type": "markdown",
   "metadata": {},
   "source": [
    "# > `Think`\n",
    "1. It would be nice library for beginners to touch."
   ]
  }
 ],
 "metadata": {
  "language_info": {
   "name": "python"
  }
 },
 "nbformat": 4,
 "nbformat_minor": 2
}
