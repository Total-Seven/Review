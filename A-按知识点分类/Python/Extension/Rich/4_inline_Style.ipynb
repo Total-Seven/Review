{
 "cells": [
  {
   "cell_type": "markdown",
   "metadata": {},
   "source": [
    "# Inline-Styles"
   ]
  },
  {
   "cell_type": "code",
   "execution_count": 7,
   "metadata": {},
   "outputs": [
    {
     "data": {
      "text/html": [
       "<pre style=\"white-space:pre;overflow-x:auto;line-height:normal;font-family:Menlo,'DejaVu Sans Mono',consolas,'Courier New',monospace\"><span style=\"font-weight: bold\"> </span><span style=\"font-weight: bold; text-decoration: underline\">Everthing</span><span style=\"font-weight: bold\"> is </span><span style=\"color: #808000; text-decoration-color: #808000; font-weight: bold\">Ok!</span>\n",
       "</pre>\n"
      ],
      "text/plain": [
       "\u001b[1m \u001b[0m\u001b[1;4mEverthing\u001b[0m\u001b[1m is \u001b[0m\u001b[1;33mOk!\u001b[0m\n"
      ]
     },
     "metadata": {},
     "output_type": "display_data"
    }
   ],
   "source": [
    "from rich.console import Console\n",
    "\n",
    "console = Console()\n",
    "console.print(\"[bold] [underline]Everthing[/] is [yellow]Ok![/][/]\")"
   ]
  }
 ],
 "metadata": {
  "kernelspec": {
   "display_name": "Python 3",
   "language": "python",
   "name": "python3"
  },
  "language_info": {
   "codemirror_mode": {
    "name": "ipython",
    "version": 3
   },
   "file_extension": ".py",
   "mimetype": "text/x-python",
   "name": "python",
   "nbconvert_exporter": "python",
   "pygments_lexer": "ipython3",
   "version": "3.11.4"
  }
 },
 "nbformat": 4,
 "nbformat_minor": 2
}
