{
 "cells": [
  {
   "cell_type": "markdown",
   "metadata": {},
   "source": [
    "# `console`"
   ]
  },
  {
   "cell_type": "code",
   "execution_count": 7,
   "metadata": {},
   "outputs": [
    {
     "data": {
      "text/html": [
       "<pre style=\"white-space:pre;overflow-x:auto;line-height:normal;font-family:Menlo,'DejaVu Sans Mono',consolas,'Courier New',monospace\">Everything is Ok~\n",
       "</pre>\n"
      ],
      "text/plain": [
       "Everything is Ok~\n"
      ]
     },
     "metadata": {},
     "output_type": "display_data"
    },
    {
     "data": {
      "text/html": [
       "<pre style=\"white-space:pre;overflow-x:auto;line-height:normal;font-family:Menlo,'DejaVu Sans Mono',consolas,'Courier New',monospace\"><span style=\"font-weight: bold\">Everything is Ok~</span>\n",
       "</pre>\n"
      ],
      "text/plain": [
       "\u001b[1mEverything is Ok~\u001b[0m\n"
      ]
     },
     "metadata": {},
     "output_type": "display_data"
    },
    {
     "data": {
      "text/html": [
       "<pre style=\"white-space:pre;overflow-x:auto;line-height:normal;font-family:Menlo,'DejaVu Sans Mono',consolas,'Courier New',monospace\"><span style=\"font-weight: bold; text-decoration: underline\">Everything is Ok~</span>\n",
       "</pre>\n"
      ],
      "text/plain": [
       "\u001b[1;4mEverything is Ok~\u001b[0m\n"
      ]
     },
     "metadata": {},
     "output_type": "display_data"
    },
    {
     "data": {
      "text/html": [
       "<pre style=\"white-space:pre;overflow-x:auto;line-height:normal;font-family:Menlo,'DejaVu Sans Mono',consolas,'Courier New',monospace\"><span style=\"color: #800000; text-decoration-color: #800000; font-weight: bold; text-decoration: underline\">Everything is Ok~</span>\n",
       "</pre>\n"
      ],
      "text/plain": [
       "\u001b[1;4;31mEverything is Ok~\u001b[0m\n"
      ]
     },
     "metadata": {},
     "output_type": "display_data"
    },
    {
     "data": {
      "text/html": [
       "<pre style=\"white-space:pre;overflow-x:auto;line-height:normal;font-family:Menlo,'DejaVu Sans Mono',consolas,'Courier New',monospace\"><span style=\"color: #800000; text-decoration-color: #800000; background-color: #000000; font-weight: bold; text-decoration: underline\">Everything is Ok~</span>\n",
       "</pre>\n"
      ],
      "text/plain": [
       "\u001b[1;4;31;40mEverything is Ok~\u001b[0m\n"
      ]
     },
     "metadata": {},
     "output_type": "display_data"
    }
   ],
   "source": [
    "from rich.console import Console\n",
    "\n",
    "c = Console()\n",
    "c.print('Everything is Ok~')\n",
    "c.print('Everything is Ok~',style=\"bold\")\n",
    "c.print('Everything is Ok~',style=\"bold underline\")\n",
    "c.print('Everything is Ok~',style=\"bold underline red\")\n",
    "c.print('Everything is Ok~',style=\"bold underline red on black\")"
   ]
  }
 ],
 "metadata": {
  "kernelspec": {
   "display_name": "Python 3",
   "language": "python",
   "name": "python3"
  },
  "language_info": {
   "codemirror_mode": {
    "name": "ipython",
    "version": 3
   },
   "file_extension": ".py",
   "mimetype": "text/x-python",
   "name": "python",
   "nbconvert_exporter": "python",
   "pygments_lexer": "ipython3",
   "version": "3.11.4"
  }
 },
 "nbformat": 4,
 "nbformat_minor": 2
}
