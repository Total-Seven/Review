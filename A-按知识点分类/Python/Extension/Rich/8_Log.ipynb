{
 "cells": [
  {
   "cell_type": "markdown",
   "metadata": {},
   "source": [
    "# log"
   ]
  },
  {
   "cell_type": "code",
   "execution_count": 3,
   "metadata": {},
   "outputs": [
    {
     "data": {
      "text/html": [
       "<pre style=\"white-space:pre;overflow-x:auto;line-height:normal;font-family:Menlo,'DejaVu Sans Mono',consolas,'Courier New',monospace\"><span style=\"color: #7fbfbf; text-decoration-color: #7fbfbf\">[15:05:14] </span>No.<span style=\"color: #008080; text-decoration-color: #008080; font-weight: bold\">0</span>  I'm about to sleep                                                                 <a href=\"file://C:\\Users\\Administrator\\AppData\\Local\\Temp\\ipykernel_2792\\4255688090.py\" target=\"_blank\"><span style=\"color: #7f7f7f; text-decoration-color: #7f7f7f\">4255688090.py</span></a><span style=\"color: #7f7f7f; text-decoration-color: #7f7f7f\">:</span><a href=\"file://C:\\Users\\Administrator\\AppData\\Local\\Temp\\ipykernel_2792\\4255688090.py#6\" target=\"_blank\"><span style=\"color: #7f7f7f; text-decoration-color: #7f7f7f\">6</span></a>\n",
       "</pre>\n"
      ],
      "text/plain": [
       "\u001b[2;36m[15:05:14]\u001b[0m\u001b[2;36m \u001b[0mNo.\u001b[1;36m0\u001b[0m  I'm about to sleep                                                                 \u001b]8;id=340519;file://C:\\Users\\Administrator\\AppData\\Local\\Temp\\ipykernel_2792\\4255688090.py\u001b\\\u001b[2m4255688090.py\u001b[0m\u001b]8;;\u001b\\\u001b[2m:\u001b[0m\u001b]8;id=189810;file://C:\\Users\\Administrator\\AppData\\Local\\Temp\\ipykernel_2792\\4255688090.py#6\u001b\\\u001b[2m6\u001b[0m\u001b]8;;\u001b\\\n"
      ]
     },
     "metadata": {},
     "output_type": "display_data"
    },
    {
     "data": {
      "text/html": [
       "<pre style=\"white-space:pre;overflow-x:auto;line-height:normal;font-family:Menlo,'DejaVu Sans Mono',consolas,'Courier New',monospace\"><span style=\"color: #7fbfbf; text-decoration-color: #7fbfbf\">           </span>No.<span style=\"color: #008080; text-decoration-color: #008080; font-weight: bold\">0</span>  but I am briefly awake now.                                                        <a href=\"file://C:\\Users\\Administrator\\AppData\\Local\\Temp\\ipykernel_2792\\4255688090.py\" target=\"_blank\"><span style=\"color: #7f7f7f; text-decoration-color: #7f7f7f\">4255688090.py</span></a><span style=\"color: #7f7f7f; text-decoration-color: #7f7f7f\">:</span><a href=\"file://C:\\Users\\Administrator\\AppData\\Local\\Temp\\ipykernel_2792\\4255688090.py#7\" target=\"_blank\"><span style=\"color: #7f7f7f; text-decoration-color: #7f7f7f\">7</span></a>\n",
       "</pre>\n"
      ],
      "text/plain": [
       "\u001b[2;36m          \u001b[0m\u001b[2;36m \u001b[0mNo.\u001b[1;36m0\u001b[0m  but I am briefly awake now.                                                        \u001b]8;id=120654;file://C:\\Users\\Administrator\\AppData\\Local\\Temp\\ipykernel_2792\\4255688090.py\u001b\\\u001b[2m4255688090.py\u001b[0m\u001b]8;;\u001b\\\u001b[2m:\u001b[0m\u001b]8;id=102979;file://C:\\Users\\Administrator\\AppData\\Local\\Temp\\ipykernel_2792\\4255688090.py#7\u001b\\\u001b[2m7\u001b[0m\u001b]8;;\u001b\\\n"
      ]
     },
     "metadata": {},
     "output_type": "display_data"
    },
    {
     "data": {
      "text/html": [
       "<pre style=\"white-space:pre;overflow-x:auto;line-height:normal;font-family:Menlo,'DejaVu Sans Mono',consolas,'Courier New',monospace\"><span style=\"color: #7fbfbf; text-decoration-color: #7fbfbf\">[15:05:15] </span>No.<span style=\"color: #008080; text-decoration-color: #008080; font-weight: bold\">1</span>  I'm about to sleep                                                                 <a href=\"file://C:\\Users\\Administrator\\AppData\\Local\\Temp\\ipykernel_2792\\4255688090.py\" target=\"_blank\"><span style=\"color: #7f7f7f; text-decoration-color: #7f7f7f\">4255688090.py</span></a><span style=\"color: #7f7f7f; text-decoration-color: #7f7f7f\">:</span><a href=\"file://C:\\Users\\Administrator\\AppData\\Local\\Temp\\ipykernel_2792\\4255688090.py#6\" target=\"_blank\"><span style=\"color: #7f7f7f; text-decoration-color: #7f7f7f\">6</span></a>\n",
       "</pre>\n"
      ],
      "text/plain": [
       "\u001b[2;36m[15:05:15]\u001b[0m\u001b[2;36m \u001b[0mNo.\u001b[1;36m1\u001b[0m  I'm about to sleep                                                                 \u001b]8;id=917928;file://C:\\Users\\Administrator\\AppData\\Local\\Temp\\ipykernel_2792\\4255688090.py\u001b\\\u001b[2m4255688090.py\u001b[0m\u001b]8;;\u001b\\\u001b[2m:\u001b[0m\u001b]8;id=715785;file://C:\\Users\\Administrator\\AppData\\Local\\Temp\\ipykernel_2792\\4255688090.py#6\u001b\\\u001b[2m6\u001b[0m\u001b]8;;\u001b\\\n"
      ]
     },
     "metadata": {},
     "output_type": "display_data"
    },
    {
     "data": {
      "text/html": [
       "<pre style=\"white-space:pre;overflow-x:auto;line-height:normal;font-family:Menlo,'DejaVu Sans Mono',consolas,'Courier New',monospace\"><span style=\"color: #7fbfbf; text-decoration-color: #7fbfbf\">           </span>No.<span style=\"color: #008080; text-decoration-color: #008080; font-weight: bold\">1</span>  but I am briefly awake now.                                                        <a href=\"file://C:\\Users\\Administrator\\AppData\\Local\\Temp\\ipykernel_2792\\4255688090.py\" target=\"_blank\"><span style=\"color: #7f7f7f; text-decoration-color: #7f7f7f\">4255688090.py</span></a><span style=\"color: #7f7f7f; text-decoration-color: #7f7f7f\">:</span><a href=\"file://C:\\Users\\Administrator\\AppData\\Local\\Temp\\ipykernel_2792\\4255688090.py#7\" target=\"_blank\"><span style=\"color: #7f7f7f; text-decoration-color: #7f7f7f\">7</span></a>\n",
       "</pre>\n"
      ],
      "text/plain": [
       "\u001b[2;36m          \u001b[0m\u001b[2;36m \u001b[0mNo.\u001b[1;36m1\u001b[0m  but I am briefly awake now.                                                        \u001b]8;id=612234;file://C:\\Users\\Administrator\\AppData\\Local\\Temp\\ipykernel_2792\\4255688090.py\u001b\\\u001b[2m4255688090.py\u001b[0m\u001b]8;;\u001b\\\u001b[2m:\u001b[0m\u001b]8;id=420655;file://C:\\Users\\Administrator\\AppData\\Local\\Temp\\ipykernel_2792\\4255688090.py#7\u001b\\\u001b[2m7\u001b[0m\u001b]8;;\u001b\\\n"
      ]
     },
     "metadata": {},
     "output_type": "display_data"
    },
    {
     "data": {
      "text/html": [
       "<pre style=\"white-space:pre;overflow-x:auto;line-height:normal;font-family:Menlo,'DejaVu Sans Mono',consolas,'Courier New',monospace\"><span style=\"color: #7fbfbf; text-decoration-color: #7fbfbf\">[15:05:16] </span>No.<span style=\"color: #008080; text-decoration-color: #008080; font-weight: bold\">2</span>  I'm about to sleep                                                                 <a href=\"file://C:\\Users\\Administrator\\AppData\\Local\\Temp\\ipykernel_2792\\4255688090.py\" target=\"_blank\"><span style=\"color: #7f7f7f; text-decoration-color: #7f7f7f\">4255688090.py</span></a><span style=\"color: #7f7f7f; text-decoration-color: #7f7f7f\">:</span><a href=\"file://C:\\Users\\Administrator\\AppData\\Local\\Temp\\ipykernel_2792\\4255688090.py#6\" target=\"_blank\"><span style=\"color: #7f7f7f; text-decoration-color: #7f7f7f\">6</span></a>\n",
       "</pre>\n"
      ],
      "text/plain": [
       "\u001b[2;36m[15:05:16]\u001b[0m\u001b[2;36m \u001b[0mNo.\u001b[1;36m2\u001b[0m  I'm about to sleep                                                                 \u001b]8;id=264036;file://C:\\Users\\Administrator\\AppData\\Local\\Temp\\ipykernel_2792\\4255688090.py\u001b\\\u001b[2m4255688090.py\u001b[0m\u001b]8;;\u001b\\\u001b[2m:\u001b[0m\u001b]8;id=647474;file://C:\\Users\\Administrator\\AppData\\Local\\Temp\\ipykernel_2792\\4255688090.py#6\u001b\\\u001b[2m6\u001b[0m\u001b]8;;\u001b\\\n"
      ]
     },
     "metadata": {},
     "output_type": "display_data"
    },
    {
     "data": {
      "text/html": [
       "<pre style=\"white-space:pre;overflow-x:auto;line-height:normal;font-family:Menlo,'DejaVu Sans Mono',consolas,'Courier New',monospace\"><span style=\"color: #7fbfbf; text-decoration-color: #7fbfbf\">           </span>No.<span style=\"color: #008080; text-decoration-color: #008080; font-weight: bold\">2</span>  but I am briefly awake now.                                                        <a href=\"file://C:\\Users\\Administrator\\AppData\\Local\\Temp\\ipykernel_2792\\4255688090.py\" target=\"_blank\"><span style=\"color: #7f7f7f; text-decoration-color: #7f7f7f\">4255688090.py</span></a><span style=\"color: #7f7f7f; text-decoration-color: #7f7f7f\">:</span><a href=\"file://C:\\Users\\Administrator\\AppData\\Local\\Temp\\ipykernel_2792\\4255688090.py#7\" target=\"_blank\"><span style=\"color: #7f7f7f; text-decoration-color: #7f7f7f\">7</span></a>\n",
       "</pre>\n"
      ],
      "text/plain": [
       "\u001b[2;36m          \u001b[0m\u001b[2;36m \u001b[0mNo.\u001b[1;36m2\u001b[0m  but I am briefly awake now.                                                        \u001b]8;id=510921;file://C:\\Users\\Administrator\\AppData\\Local\\Temp\\ipykernel_2792\\4255688090.py\u001b\\\u001b[2m4255688090.py\u001b[0m\u001b]8;;\u001b\\\u001b[2m:\u001b[0m\u001b]8;id=599113;file://C:\\Users\\Administrator\\AppData\\Local\\Temp\\ipykernel_2792\\4255688090.py#7\u001b\\\u001b[2m7\u001b[0m\u001b]8;;\u001b\\\n"
      ]
     },
     "metadata": {},
     "output_type": "display_data"
    }
   ],
   "source": [
    "from rich.console import Console\n",
    "import time\n",
    "\n",
    "c = Console()\n",
    "for i in range(3):\n",
    "    c.log(f'No.{i}  I\\'m about to sleep')\n",
    "    c.log(f'No.{i}  but I am briefly awake now.')\n",
    "    time.sleep(1)\n"
   ]
  }
 ],
 "metadata": {
  "kernelspec": {
   "display_name": "Python 3",
   "language": "python",
   "name": "python3"
  },
  "language_info": {
   "codemirror_mode": {
    "name": "ipython",
    "version": 3
   },
   "file_extension": ".py",
   "mimetype": "text/x-python",
   "name": "python",
   "nbconvert_exporter": "python",
   "pygments_lexer": "ipython3",
   "version": "3.11.5"
  }
 },
 "nbformat": 4,
 "nbformat_minor": 2
}
