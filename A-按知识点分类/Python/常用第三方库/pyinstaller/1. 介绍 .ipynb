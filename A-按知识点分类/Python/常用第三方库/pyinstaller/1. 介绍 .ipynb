{
 "cells": [
  {
   "cell_type": "markdown",
   "metadata": {},
   "source": [
    "### Pyinstaller \n",
    "#### 功能：将 xxx.py 文件 变成 xxx.exe 文件。\n",
    "#### 特点：多平台（W、L、M）"
   ]
  },
  {
   "cell_type": "markdown",
   "metadata": {},
   "source": [
    "` E:\\1.007\\Code Review\\A-按知识点分类\\Python\\第三方库\\pyinstaller> pyinstaller 测试.py `"
   ]
  },
  {
   "cell_type": "markdown",
   "metadata": {},
   "source": [
    "> 首先，打包过程会先生成一个.spec文件，等待命令行刷刷刷地打包完成后，当前目录将会多出两个文件夹：“build”、“dist”"
   ]
  },
  {
   "cell_type": "markdown",
   "metadata": {},
   "source": [
    "* build ———— 临时文件，可删除。\n",
    "* dist ———— exe文件就在里面，其中还包括一些这个exe文件地动态链接库。"
   ]
  }
 ],
 "metadata": {
  "language_info": {
   "name": "python"
  }
 },
 "nbformat": 4,
 "nbformat_minor": 2
}
