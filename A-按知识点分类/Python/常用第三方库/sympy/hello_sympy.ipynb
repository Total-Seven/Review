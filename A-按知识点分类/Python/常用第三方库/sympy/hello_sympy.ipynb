{
 "cells": [
  {
   "cell_type": "code",
   "execution_count": 1,
   "metadata": {},
   "outputs": [
    {
     "name": "stdout",
     "output_type": "stream",
     "text": [
      "2*x + 2\n",
      "    120 |                                                      /\n",
      "        |                                                     / \n",
      "        |                                                    /  \n",
      "        |                                                   .   \n",
      "        |                                                       \n",
      "        |                                                  .    \n",
      "        |\\                                                /     \n",
      "        | \\                                              /      \n",
      "        |  \\                                            /       \n",
      "        |   \\                                          /        \n",
      "     60 |----\\----------------------------------------/---------\n",
      "        |     \\                                      /          \n",
      "        |      \\                                    /           \n",
      "        |       \\                                 ..            \n",
      "        |        ..                              /              \n",
      "        |          \\                           ..               \n",
      "        |           ..                        /                 \n",
      "        |             ..                    ..                  \n",
      "        |               ...              ...                    \n",
      "        |                  ....      ....                       \n",
      "      0 |_______________________________________________________\n",
      "         -10                        0                          10\n"
     ]
    },
    {
     "data": {
      "text/plain": [
       "<sympy.plotting.plot.Plot at 0x1f9bb581f50>"
      ]
     },
     "execution_count": 1,
     "metadata": {},
     "output_type": "execute_result"
    }
   ],
   "source": [
    "from sympy import Symbol, Derivative\n",
    "from sympy.plotting import plot\n",
    "\n",
    "x = Symbol('x')\n",
    "y = x*x + 2*x + 3\n",
    "d = Derivative(y, x)\n",
    "print(d.doit())\n",
    "\n",
    "d.doit().subs({x: 10})\n",
    "\n",
    "plot(y, (x, -10, 10))\n"
   ]
  },
  {
   "cell_type": "code",
   "execution_count": null,
   "metadata": {},
   "outputs": [],
   "source": []
  }
 ],
 "metadata": {
  "kernelspec": {
   "display_name": "Python 3",
   "language": "python",
   "name": "python3"
  },
  "language_info": {
   "codemirror_mode": {
    "name": "ipython",
    "version": 3
   },
   "file_extension": ".py",
   "mimetype": "text/x-python",
   "name": "python",
   "nbconvert_exporter": "python",
   "pygments_lexer": "ipython3",
   "version": "3.11.4"
  }
 },
 "nbformat": 4,
 "nbformat_minor": 2
}
