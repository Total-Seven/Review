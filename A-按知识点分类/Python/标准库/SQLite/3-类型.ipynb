{
 "cells": [
  {
   "cell_type": "markdown",
   "metadata": {},
   "source": [
    "# Type\n",
    "1.  整数型（INTEGER）：有符号整数\n",
    "2.  实数型（REAL）：浮点数\n",
    "3.  文本型（TEXT）：字符串\n",
    "4.  BLOB型：图片、视频、XML等。\n",
    "***\n",
    "## 创建表的SQL语句\n",
    "> CREATE TABLE <表名> (<字段元组>)\n",
    "***\n",
    "### 非空（约束）\n",
    "> NOT NULL\n",
    "### 主键\n",
    "> PRIMARY KEY "
   ]
  }
 ],
 "metadata": {
  "language_info": {
   "name": "python"
  }
 },
 "nbformat": 4,
 "nbformat_minor": 2
}
