{
 "cells": [
  {
   "cell_type": "markdown",
   "metadata": {},
   "source": [
    "# 表的操作\n",
    "1.  创建Connection数据库连接实例对象。\n",
    "2.  execute()方法 ———— 执行一类操作去修改数据，完成后需要commit()方法提交修改。一类操作包括创建新表、插入数据、修改和删除数据等。\n",
    "3.  cursor()方法 ———— 创建游标对象，通过游标的execute()方法可查询数据。\n",
    "4.  close()方法————关闭游标和数据库连接对象。"
   ]
  },
  {
   "cell_type": "code",
   "execution_count": 15,
   "metadata": {},
   "outputs": [],
   "source": [
    "import sqlite3 \n",
    "\n",
    "conn = sqlite3.connect('D:/test.db')"
   ]
  },
  {
   "cell_type": "markdown",
   "metadata": {},
   "source": [
    "***\n",
    "> SQL语句大小写不敏感，可分行，关键字之间可使用空格。\n",
    "***"
   ]
  },
  {
   "cell_type": "markdown",
   "metadata": {},
   "source": [
    "## 查询"
   ]
  },
  {
   "cell_type": "code",
   "execution_count": 11,
   "metadata": {},
   "outputs": [],
   "source": [
    "cur = conn.cursor()\n",
    "cur.execute('select * from base2')\n",
    "for i in cur.fetchall():\n",
    "    print(i)\n",
    "conn.close()"
   ]
  },
  {
   "cell_type": "markdown",
   "metadata": {},
   "source": [
    "*   fetchall():从结果中取出全部记录\n",
    "*   fetchone():从结果中取出一条记录，并将游标指向下一条记录；\n",
    "*   fetchmany():从结果中取出全部记录;\n",
    "*   scroll()用于游标滚动。"
   ]
  }
 ],
 "metadata": {
  "kernelspec": {
   "display_name": "Python 3",
   "language": "python",
   "name": "python3"
  },
  "language_info": {
   "codemirror_mode": {
    "name": "ipython",
    "version": 3
   },
   "file_extension": ".py",
   "mimetype": "text/x-python",
   "name": "python",
   "nbconvert_exporter": "python",
   "pygments_lexer": "ipython3",
   "version": "3.11.4"
  }
 },
 "nbformat": 4,
 "nbformat_minor": 2
}
