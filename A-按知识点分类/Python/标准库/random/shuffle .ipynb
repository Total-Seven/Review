{
 "cells": [
  {
   "cell_type": "code",
   "execution_count": 7,
   "metadata": {},
   "outputs": [
    {
     "name": "stdout",
     "output_type": "stream",
     "text": [
      "[5, 3, 9, 2, 7, 1, 6, 10, 4, 8]\n"
     ]
    }
   ],
   "source": [
    "import random as r \n",
    "\n",
    "list = [1,2,3,4,5,6,7,8,9,10]\n",
    "r.shuffle(list)\n",
    "print(list)"
   ]
  },
  {
   "cell_type": "markdown",
   "metadata": {},
   "source": [
    "#### 只对列表管用"
   ]
  },
  {
   "cell_type": "code",
   "execution_count": 8,
   "metadata": {},
   "outputs": [
    {
     "ename": "TypeError",
     "evalue": "'tuple' object does not support item assignment",
     "output_type": "error",
     "traceback": [
      "\u001b[1;31m---------------------------------------------------------------------------\u001b[0m",
      "\u001b[1;31mTypeError\u001b[0m                                 Traceback (most recent call last)",
      "\u001b[1;32me:\\1.007\\Code Review\\A-按知识点分类\\Python\\标准库\\random\\shuffle .ipynb Cell 2\u001b[0m line \u001b[0;36m2\n\u001b[0;32m      <a href='vscode-notebook-cell:/e%3A/1.007/Code%20Review/A-%E6%8C%89%E7%9F%A5%E8%AF%86%E7%82%B9%E5%88%86%E7%B1%BB/Python/%E6%A0%87%E5%87%86%E5%BA%93/random/shuffle%20.ipynb#W1sZmlsZQ%3D%3D?line=0'>1</a>\u001b[0m \u001b[39mtuple\u001b[39m \u001b[39m=\u001b[39m (\u001b[39m1\u001b[39m,\u001b[39m2\u001b[39m,\u001b[39m3\u001b[39m,\u001b[39m4\u001b[39m,\u001b[39m5\u001b[39m,\u001b[39m6\u001b[39m,\u001b[39m7\u001b[39m,\u001b[39m8\u001b[39m,\u001b[39m9\u001b[39m,\u001b[39m10\u001b[39m)\n\u001b[1;32m----> <a href='vscode-notebook-cell:/e%3A/1.007/Code%20Review/A-%E6%8C%89%E7%9F%A5%E8%AF%86%E7%82%B9%E5%88%86%E7%B1%BB/Python/%E6%A0%87%E5%87%86%E5%BA%93/random/shuffle%20.ipynb#W1sZmlsZQ%3D%3D?line=1'>2</a>\u001b[0m r\u001b[39m.\u001b[39;49mshuffle(\u001b[39mtuple\u001b[39;49m)\n\u001b[0;32m      <a href='vscode-notebook-cell:/e%3A/1.007/Code%20Review/A-%E6%8C%89%E7%9F%A5%E8%AF%86%E7%82%B9%E5%88%86%E7%B1%BB/Python/%E6%A0%87%E5%87%86%E5%BA%93/random/shuffle%20.ipynb#W1sZmlsZQ%3D%3D?line=2'>3</a>\u001b[0m \u001b[39mprint\u001b[39m(\u001b[39mlist\u001b[39m)\n",
      "File \u001b[1;32me:\\Python3.11\\Lib\\random.py:383\u001b[0m, in \u001b[0;36mRandom.shuffle\u001b[1;34m(self, x)\u001b[0m\n\u001b[0;32m    380\u001b[0m \u001b[39mfor\u001b[39;00m i \u001b[39min\u001b[39;00m \u001b[39mreversed\u001b[39m(\u001b[39mrange\u001b[39m(\u001b[39m1\u001b[39m, \u001b[39mlen\u001b[39m(x))):\n\u001b[0;32m    381\u001b[0m     \u001b[39m# pick an element in x[:i+1] with which to exchange x[i]\u001b[39;00m\n\u001b[0;32m    382\u001b[0m     j \u001b[39m=\u001b[39m randbelow(i \u001b[39m+\u001b[39m \u001b[39m1\u001b[39m)\n\u001b[1;32m--> 383\u001b[0m     x[i], x[j] \u001b[39m=\u001b[39m x[j], x[i]\n",
      "\u001b[1;31mTypeError\u001b[0m: 'tuple' object does not support item assignment"
     ]
    }
   ],
   "source": [
    "tuple = (1,2,3,4,5,6,7,8,9,10)  # TypeError: 'tuple' object does not support item assignment\n",
    "r.shuffle(tuple)\n",
    "print(list)"
   ]
  },
  {
   "cell_type": "code",
   "execution_count": 9,
   "metadata": {},
   "outputs": [
    {
     "ename": "TypeError",
     "evalue": "'str' object does not support item assignment",
     "output_type": "error",
     "traceback": [
      "\u001b[1;31m---------------------------------------------------------------------------\u001b[0m",
      "\u001b[1;31mTypeError\u001b[0m                                 Traceback (most recent call last)",
      "\u001b[1;32me:\\1.007\\Code Review\\A-按知识点分类\\Python\\标准库\\random\\shuffle .ipynb Cell 3\u001b[0m line \u001b[0;36m2\n\u001b[0;32m      <a href='vscode-notebook-cell:/e%3A/1.007/Code%20Review/A-%E6%8C%89%E7%9F%A5%E8%AF%86%E7%82%B9%E5%88%86%E7%B1%BB/Python/%E6%A0%87%E5%87%86%E5%BA%93/random/shuffle%20.ipynb#W2sZmlsZQ%3D%3D?line=0'>1</a>\u001b[0m s \u001b[39m=\u001b[39m \u001b[39m\"\u001b[39m\u001b[39m123456789\u001b[39m\u001b[39m\"\u001b[39m  \u001b[39m# TypeError: 'tuple' object does not support item assignment\u001b[39;00m\n\u001b[1;32m----> <a href='vscode-notebook-cell:/e%3A/1.007/Code%20Review/A-%E6%8C%89%E7%9F%A5%E8%AF%86%E7%82%B9%E5%88%86%E7%B1%BB/Python/%E6%A0%87%E5%87%86%E5%BA%93/random/shuffle%20.ipynb#W2sZmlsZQ%3D%3D?line=1'>2</a>\u001b[0m r\u001b[39m.\u001b[39;49mshuffle(s)\n\u001b[0;32m      <a href='vscode-notebook-cell:/e%3A/1.007/Code%20Review/A-%E6%8C%89%E7%9F%A5%E8%AF%86%E7%82%B9%E5%88%86%E7%B1%BB/Python/%E6%A0%87%E5%87%86%E5%BA%93/random/shuffle%20.ipynb#W2sZmlsZQ%3D%3D?line=2'>3</a>\u001b[0m \u001b[39mprint\u001b[39m(s)\n",
      "File \u001b[1;32me:\\Python3.11\\Lib\\random.py:383\u001b[0m, in \u001b[0;36mRandom.shuffle\u001b[1;34m(self, x)\u001b[0m\n\u001b[0;32m    380\u001b[0m \u001b[39mfor\u001b[39;00m i \u001b[39min\u001b[39;00m \u001b[39mreversed\u001b[39m(\u001b[39mrange\u001b[39m(\u001b[39m1\u001b[39m, \u001b[39mlen\u001b[39m(x))):\n\u001b[0;32m    381\u001b[0m     \u001b[39m# pick an element in x[:i+1] with which to exchange x[i]\u001b[39;00m\n\u001b[0;32m    382\u001b[0m     j \u001b[39m=\u001b[39m randbelow(i \u001b[39m+\u001b[39m \u001b[39m1\u001b[39m)\n\u001b[1;32m--> 383\u001b[0m     x[i], x[j] \u001b[39m=\u001b[39m x[j], x[i]\n",
      "\u001b[1;31mTypeError\u001b[0m: 'str' object does not support item assignment"
     ]
    }
   ],
   "source": [
    "s = \"123456789\"  # TypeError: 'str' object does not support item assignment\n",
    "r.shuffle(s)\n",
    "print(s)"
   ]
  },
  {
   "cell_type": "code",
   "execution_count": 10,
   "metadata": {},
   "outputs": [
    {
     "ename": "TypeError",
     "evalue": "'range' object does not support item assignment",
     "output_type": "error",
     "traceback": [
      "\u001b[1;31m---------------------------------------------------------------------------\u001b[0m",
      "\u001b[1;31mTypeError\u001b[0m                                 Traceback (most recent call last)",
      "\u001b[1;32me:\\1.007\\Code Review\\A-按知识点分类\\Python\\标准库\\random\\shuffle .ipynb Cell 4\u001b[0m line \u001b[0;36m2\n\u001b[0;32m      <a href='vscode-notebook-cell:/e%3A/1.007/Code%20Review/A-%E6%8C%89%E7%9F%A5%E8%AF%86%E7%82%B9%E5%88%86%E7%B1%BB/Python/%E6%A0%87%E5%87%86%E5%BA%93/random/shuffle%20.ipynb#W3sZmlsZQ%3D%3D?line=0'>1</a>\u001b[0m s \u001b[39m=\u001b[39m \u001b[39mrange\u001b[39m(\u001b[39m5\u001b[39m)  \u001b[39m# TypeError: 'str' object does not support item assignment\u001b[39;00m\n\u001b[1;32m----> <a href='vscode-notebook-cell:/e%3A/1.007/Code%20Review/A-%E6%8C%89%E7%9F%A5%E8%AF%86%E7%82%B9%E5%88%86%E7%B1%BB/Python/%E6%A0%87%E5%87%86%E5%BA%93/random/shuffle%20.ipynb#W3sZmlsZQ%3D%3D?line=1'>2</a>\u001b[0m r\u001b[39m.\u001b[39;49mshuffle(s)\n\u001b[0;32m      <a href='vscode-notebook-cell:/e%3A/1.007/Code%20Review/A-%E6%8C%89%E7%9F%A5%E8%AF%86%E7%82%B9%E5%88%86%E7%B1%BB/Python/%E6%A0%87%E5%87%86%E5%BA%93/random/shuffle%20.ipynb#W3sZmlsZQ%3D%3D?line=2'>3</a>\u001b[0m \u001b[39mprint\u001b[39m(s)\n",
      "File \u001b[1;32me:\\Python3.11\\Lib\\random.py:383\u001b[0m, in \u001b[0;36mRandom.shuffle\u001b[1;34m(self, x)\u001b[0m\n\u001b[0;32m    380\u001b[0m \u001b[39mfor\u001b[39;00m i \u001b[39min\u001b[39;00m \u001b[39mreversed\u001b[39m(\u001b[39mrange\u001b[39m(\u001b[39m1\u001b[39m, \u001b[39mlen\u001b[39m(x))):\n\u001b[0;32m    381\u001b[0m     \u001b[39m# pick an element in x[:i+1] with which to exchange x[i]\u001b[39;00m\n\u001b[0;32m    382\u001b[0m     j \u001b[39m=\u001b[39m randbelow(i \u001b[39m+\u001b[39m \u001b[39m1\u001b[39m)\n\u001b[1;32m--> 383\u001b[0m     x[i], x[j] \u001b[39m=\u001b[39m x[j], x[i]\n",
      "\u001b[1;31mTypeError\u001b[0m: 'range' object does not support item assignment"
     ]
    }
   ],
   "source": [
    "s = range(5)  # TypeError: 'range' object does not support item assignment\n",
    "r.shuffle(s)\n",
    "print(s)"
   ]
  },
  {
   "cell_type": "code",
   "execution_count": null,
   "metadata": {},
   "outputs": [],
   "source": []
  }
 ],
 "metadata": {
  "kernelspec": {
   "display_name": "Python 3",
   "language": "python",
   "name": "python3"
  },
  "language_info": {
   "codemirror_mode": {
    "name": "ipython",
    "version": 3
   },
   "file_extension": ".py",
   "mimetype": "text/x-python",
   "name": "python",
   "nbconvert_exporter": "python",
   "pygments_lexer": "ipython3",
   "version": "3.11.4"
  }
 },
 "nbformat": 4,
 "nbformat_minor": 2
}
