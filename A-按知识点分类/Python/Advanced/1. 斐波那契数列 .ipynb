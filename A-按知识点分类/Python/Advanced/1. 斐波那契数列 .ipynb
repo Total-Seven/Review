{
 "cells": [
  {
   "cell_type": "markdown",
   "metadata": {},
   "source": [
    "# 斐波那契数列\n",
    "\n",
    "##  初始子序列\n",
    "\n",
    "```python\n",
    "''' 用Python生成斐波那契数列 '''  \n",
    "a, b = 0, 1\n",
    "\n",
    "while a < 10:\n",
    "  print(a)\n",
    "  a, b = b, a+b\n",
    "```\n",
    "***\n",
    "```python\n",
    "0\n",
    "1\n",
    "1\n",
    "2\n",
    "3\n",
    "5\n",
    "8\n",
    "```\n",
    "***\n",
    "- 多重赋值\n",
    "  - 等号右边的所有表达式的值，都是在这一语句对任何变量赋新值之前求出来的——求值顺序为从左到右。\n",
    "  - while 循环只要条件（这里是 a < 10）为真就会一直执行。\n",
    "    - Python 和 C 一样，任何非零整数都为真，零为假。\n",
    "    - 这个条件也可以是字符串或列表的值，事实上，任何序列都可以；长度非零就为真，空序列则为假。\n",
    "    - 循环体 是 缩进的 ：缩进是 Python 组织语句的方式。\n",
    "      - 在交互式命令行里，得为每个缩进的行输入空格（或制表符）。\n",
    "      - 注意，同一块语句的每一行的缩进相同。\n",
    "        |关系|Python符号|\n",
    "        |:--:|:--:|\n",
    "        |小于|<|\n",
    "        |大于|>|\n",
    "        |等于|==|\n",
    "        |小于等于|<=|\n",
    "        |大于等于|>=|\n",
    "        |不等于|!=|\n"
   ]
  }
 ],
 "metadata": {
  "kernelspec": {
   "display_name": "Python 3",
   "language": "python",
   "name": "python3"
  },
  "language_info": {
   "codemirror_mode": {
    "name": "ipython",
    "version": 3
   },
   "file_extension": ".py",
   "mimetype": "text/x-python",
   "name": "python",
   "nbconvert_exporter": "python",
   "pygments_lexer": "ipython3",
   "version": "3.11.4"
  }
 },
 "nbformat": 4,
 "nbformat_minor": 2
}
