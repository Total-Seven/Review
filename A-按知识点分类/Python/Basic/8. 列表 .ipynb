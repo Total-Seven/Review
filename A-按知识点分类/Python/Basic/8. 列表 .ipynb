{
 "cells": [
  {
   "cell_type": "markdown",
   "metadata": {},
   "source": [
    "# Python 3.11.5 DOC\n",
    "\n",
    "## 3.1.3 列表\n",
    "\n",
    "> Python 支持多种 复合 数据类型，可将不同值组合在一起。\n",
    "> 最常用的 `列表` ，是用方括号标注，逗号分隔的一组值。\n",
    "> 列表 可以包含不同类型的元素，\n",
    "\n",
    "> ```\n",
    ">    但一般情况下，各个元素的类型相同。\n",
    "> ```\n",
    "\n",
    "1. 与字符串一样，列表也支持索引、切片、合并\n",
    "   ```python\n",
    "   squares = [1, 4, 9, 16, 25]\n",
    "   \n",
    "   squares[0]  # 1\n",
    "   \n",
    "   squares[-1] # 25\n",
    "   \n",
    "   squares[-3:]  # new list : [9, 16, 25]\n",
    "   squares[:]    # new list : [1, 4, 9, 16, 25]\n",
    "   \n",
    "   squares + [36, 49, 64, 81, 100]\n",
    "   # [1, 4, 9, 16, 25, 36, 49, 64, 81, 100]\n",
    "   ```\n",
    "2. 与 immutable 字符串不同, 列表是 **== mutable ==**类型，其内容可以改变。\n",
    "   ```python\n",
    "   cubes = [1, 8, 27, 65, 125]  # something's wrong here\n",
    "   \n",
    "   cubes[3] = 64  # replace the wrong value\n",
    "   \n",
    "   # [1, 8, 27, 64, 125]\n",
    "   ```\n",
    "3. 为切片赋值可以改变列表大小，甚至清空整个列表：\n",
    "   ```python\n",
    "   letters = ['a', 'b', 'c', 'd', 'e', 'f', 'g']\n",
    "   \n",
    "   # replace some values\n",
    "   letters[2:5] = ['C', 'D', 'E']\n",
    "   # ['a', 'b', 'C', 'D', 'E', 'f', 'g']\n",
    "   \n",
    "   # now remove them\n",
    "   letters[2:5] = []\n",
    "   # ['a', 'b', 'f', 'g']\n",
    "   \n",
    "   # clear the list by replacing all the elements with an empty list\n",
    "   letters[:] = []\n",
    "   # []\n",
    "   ```\n"
   ]
  }
 ],
 "metadata": {
  "language_info": {
   "name": "python"
  }
 },
 "nbformat": 4,
 "nbformat_minor": 2
}
