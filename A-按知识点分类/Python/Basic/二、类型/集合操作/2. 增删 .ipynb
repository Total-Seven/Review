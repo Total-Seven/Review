{
 "cells": [
  {
   "cell_type": "markdown",
   "metadata": {},
   "source": [
    "#### 创建集合"
   ]
  },
  {
   "cell_type": "code",
   "execution_count": 22,
   "metadata": {},
   "outputs": [
    {
     "data": {
      "text/plain": [
       "set"
      ]
     },
     "execution_count": 22,
     "metadata": {},
     "output_type": "execute_result"
    }
   ],
   "source": [
    "s = {1,2,3}\n",
    "type(s)"
   ]
  },
  {
   "cell_type": "markdown",
   "metadata": {},
   "source": [
    "#### 添加元素 ———— add() "
   ]
  },
  {
   "cell_type": "code",
   "execution_count": 23,
   "metadata": {},
   "outputs": [
    {
     "data": {
      "text/plain": [
       "{1, 2, 3, 4}"
      ]
     },
     "execution_count": 23,
     "metadata": {},
     "output_type": "execute_result"
    }
   ],
   "source": [
    "s.add(3)  # 元素3已存在，该操作被忽略\n",
    "s.add(4)\n",
    "s"
   ]
  },
  {
   "cell_type": "markdown",
   "metadata": {},
   "source": [
    "#### 移除 ———— remove()"
   ]
  },
  {
   "cell_type": "code",
   "execution_count": 24,
   "metadata": {},
   "outputs": [
    {
     "name": "stdout",
     "output_type": "stream",
     "text": [
      "{1, 2, 4}\n"
     ]
    },
    {
     "ename": "KeyError",
     "evalue": "3",
     "output_type": "error",
     "traceback": [
      "\u001b[1;31m---------------------------------------------------------------------------\u001b[0m",
      "\u001b[1;31mKeyError\u001b[0m                                  Traceback (most recent call last)",
      "\u001b[1;32me:\\1.007\\Code Review\\A-按知识点分类\\Python\\Basic\\类型\\集合操作\\2. add() .ipynb Cell 3\u001b[0m line \u001b[0;36m3\n\u001b[0;32m      <a href='vscode-notebook-cell:/e%3A/1.007/Code%20Review/A-%E6%8C%89%E7%9F%A5%E8%AF%86%E7%82%B9%E5%88%86%E7%B1%BB/Python/Basic/%E7%B1%BB%E5%9E%8B/%E9%9B%86%E5%90%88%E6%93%8D%E4%BD%9C/2.%20add%28%29%20.ipynb#W2sZmlsZQ%3D%3D?line=0'>1</a>\u001b[0m s\u001b[39m.\u001b[39mremove(\u001b[39m3\u001b[39m)\n\u001b[0;32m      <a href='vscode-notebook-cell:/e%3A/1.007/Code%20Review/A-%E6%8C%89%E7%9F%A5%E8%AF%86%E7%82%B9%E5%88%86%E7%B1%BB/Python/Basic/%E7%B1%BB%E5%9E%8B/%E9%9B%86%E5%90%88%E6%93%8D%E4%BD%9C/2.%20add%28%29%20.ipynb#W2sZmlsZQ%3D%3D?line=1'>2</a>\u001b[0m \u001b[39mprint\u001b[39m(s)\n\u001b[1;32m----> <a href='vscode-notebook-cell:/e%3A/1.007/Code%20Review/A-%E6%8C%89%E7%9F%A5%E8%AF%86%E7%82%B9%E5%88%86%E7%B1%BB/Python/Basic/%E7%B1%BB%E5%9E%8B/%E9%9B%86%E5%90%88%E6%93%8D%E4%BD%9C/2.%20add%28%29%20.ipynb#W2sZmlsZQ%3D%3D?line=2'>3</a>\u001b[0m s\u001b[39m.\u001b[39;49mremove(\u001b[39m3\u001b[39;49m)  \u001b[39m# KeyError: 3\u001b[39;00m\n\u001b[0;32m      <a href='vscode-notebook-cell:/e%3A/1.007/Code%20Review/A-%E6%8C%89%E7%9F%A5%E8%AF%86%E7%82%B9%E5%88%86%E7%B1%BB/Python/Basic/%E7%B1%BB%E5%9E%8B/%E9%9B%86%E5%90%88%E6%93%8D%E4%BD%9C/2.%20add%28%29%20.ipynb#W2sZmlsZQ%3D%3D?line=3'>4</a>\u001b[0m s\n",
      "\u001b[1;31mKeyError\u001b[0m: 3"
     ]
    }
   ],
   "source": [
    "s.remove(3)\n",
    "print(s)\n",
    "s.remove(3)  # KeyError: 3\n",
    "s"
   ]
  },
  {
   "cell_type": "markdown",
   "metadata": {},
   "source": [
    "#### 丢弃 ———— discard()"
   ]
  },
  {
   "cell_type": "code",
   "execution_count": 25,
   "metadata": {},
   "outputs": [
    {
     "name": "stdout",
     "output_type": "stream",
     "text": [
      "{1, 2}\n"
     ]
    },
    {
     "data": {
      "text/plain": [
       "{1, 2}"
      ]
     },
     "execution_count": 25,
     "metadata": {},
     "output_type": "execute_result"
    }
   ],
   "source": [
    "s.discard(4)\n",
    "print(s)\n",
    "s.discard(4)  # 元素4不存在，该操作被忽略。\n",
    "s"
   ]
  },
  {
   "cell_type": "markdown",
   "metadata": {},
   "source": [
    "#### 合并 ———— update()"
   ]
  },
  {
   "cell_type": "code",
   "execution_count": 26,
   "metadata": {},
   "outputs": [
    {
     "data": {
      "text/plain": [
       "{1, 2, 7, 8, 9}"
      ]
     },
     "execution_count": 26,
     "metadata": {},
     "output_type": "execute_result"
    }
   ],
   "source": [
    "m = {7,8,9}\n",
    "s.update(m)\n",
    "s"
   ]
  },
  {
   "cell_type": "markdown",
   "metadata": {},
   "source": [
    "#### 清空 ———— clear()"
   ]
  },
  {
   "cell_type": "code",
   "execution_count": 27,
   "metadata": {},
   "outputs": [
    {
     "data": {
      "text/plain": [
       "set()"
      ]
     },
     "execution_count": 27,
     "metadata": {},
     "output_type": "execute_result"
    }
   ],
   "source": [
    "s.clear()\n",
    "s"
   ]
  }
 ],
 "metadata": {
  "kernelspec": {
   "display_name": "Python 3",
   "language": "python",
   "name": "python3"
  },
  "language_info": {
   "codemirror_mode": {
    "name": "ipython",
    "version": 3
   },
   "file_extension": ".py",
   "mimetype": "text/x-python",
   "name": "python",
   "nbconvert_exporter": "python",
   "pygments_lexer": "ipython3",
   "version": "3.11.4"
  }
 },
 "nbformat": 4,
 "nbformat_minor": 2
}
