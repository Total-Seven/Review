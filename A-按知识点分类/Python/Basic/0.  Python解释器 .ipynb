{
 "cells": [
  {
   "cell_type": "markdown",
   "metadata": {},
   "source": [
    "# Python 3.11.5"
   ]
  },
  {
   "cell_type": "markdown",
   "metadata": {},
   "source": [
    "在` 终端（tty） `输入并执行指令时，解释器在 `交互模式（interactive mode）` 中运行。在这种模式中，会显示 `主提示符`，提示输入下一条指令，主提示符通常用三个大于号（>>>）表示；输入连续行时，显示 `次要提示符`，默认是三个点（...）。进入解释器时，首先显示<u>欢迎信息、版本信息、版权声明</u>，然后才是提示符。"
   ]
  },
  {
   "cell_type": "markdown",
   "metadata": {},
   "source": [
    "***"
   ]
  }
 ],
 "metadata": {
  "kernelspec": {
   "display_name": "Python 3",
   "language": "python",
   "name": "python3"
  },
  "language_info": {
   "codemirror_mode": {
    "name": "ipython",
    "version": 3
   },
   "file_extension": ".py",
   "mimetype": "text/x-python",
   "name": "python",
   "nbconvert_exporter": "python",
   "pygments_lexer": "ipython3",
   "version": "3.11.4"
  }
 },
 "nbformat": 4,
 "nbformat_minor": 2
}
