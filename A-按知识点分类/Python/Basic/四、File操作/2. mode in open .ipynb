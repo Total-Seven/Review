{
 "cells": [
  {
   "cell_type": "markdown",
   "metadata": {},
   "source": [
    "# mode"
   ]
  },
  {
   "cell_type": "markdown",
   "metadata": {},
   "source": [
    "1. \"t\" ————文本模式(默认)\n",
    "2. \"x\" ———— 写模式(新建一个文件，如果文件已存在就会报错)\n",
    "3. \"b\" ———— 二进制模式\n",
    "4. \"+\" ———— 可读可写\n",
    "5. \"r\" ———— 只读，打开后光标定位于开头\n",
    "6. \"rb\" ———— 一般用于非文本文件如图片\n",
    "7. \"r+\" ———— 读写\n",
    "8. \"rb+\" ———— 二进制打开、可读写、\n",
    "9. \"w\" ———— 只用于写入（文件存在则打开文件并覆盖，否则新建一个文件）\n",
    "10. \"wb\" ———— 以二进制格式打开用于写入（拥有\"w\"模式的特性）\n",
    "11. \"w+\" ———— 可读可写（拥有\"w\"模式的特性）\n",
    "12. \"wb+\" ———— 以二进制格式打开并可读可写（拥有\"w\"模式的特性）\n",
    "13. \"a\" ———— 追加（如文件已存在，则光标定位在末尾；否则新建一个文件）\n",
    "14. \"ab\" ———— 二进制格式追加(拥有\"a\"模式的特性)\n",
    "15. \"a+\" ———— 可读可写(拥有\"a\"模式的特性)\n",
    "16. \"ab+\" ———— 二进制格式追加(拥有\"a\"模式的特性)"
   ]
  },
  {
   "cell_type": "markdown",
   "metadata": {},
   "source": [
    "\n",
    "***\n"
   ]
  },
  {
   "cell_type": "markdown",
   "metadata": {},
   "source": [
    "1. ### 文本or二进制\n",
    "2. ### 模式\n",
    "    * r\n",
    "    * w\n",
    "    * a\n",
    "    * t\n",
    "3. ### +不+"
   ]
  }
 ],
 "metadata": {
  "kernelspec": {
   "display_name": "Python 3",
   "language": "python",
   "name": "python3"
  },
  "language_info": {
   "codemirror_mode": {
    "name": "ipython",
    "version": 3
   },
   "file_extension": ".py",
   "mimetype": "text/x-python",
   "name": "python",
   "nbconvert_exporter": "python",
   "pygments_lexer": "ipython3",
   "version": "3.11.4"
  }
 },
 "nbformat": 4,
 "nbformat_minor": 2
}
