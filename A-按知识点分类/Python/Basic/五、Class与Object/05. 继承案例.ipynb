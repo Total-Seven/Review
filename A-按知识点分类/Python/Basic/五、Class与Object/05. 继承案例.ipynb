{
 "cells": [
  {
   "cell_type": "markdown",
   "metadata": {},
   "source": [
    "# 继承"
   ]
  },
  {
   "cell_type": "code",
   "execution_count": 7,
   "metadata": {},
   "outputs": [
    {
     "name": "stdout",
     "output_type": "stream",
     "text": [
      "tesla\n"
     ]
    }
   ],
   "source": [
    "class Car():\n",
    "    name = \"car\"\n",
    "\n",
    "    def __init__(self, make, model, year):\n",
    "        self.make = make\n",
    "        self.model = model\n",
    "        self.year = year\n",
    "    \n",
    "    def get_descriptive_name(self):\n",
    "        return self.make\n",
    "\n",
    "class ElectricCar(Car):  #2\n",
    "    def __init__(self, make, model, year):  #3\n",
    "        super().__init__(make, model, year)  #4\n",
    "\n",
    "my_tesla = ElectricCar('tesla', 'model s', 2016)  #5\n",
    "print(my_tesla.get_descriptive_name())"
   ]
  },
  {
   "cell_type": "markdown",
   "metadata": {},
   "source": [
    "# 注意点：\n",
    "*   “#1” 父类必须在子类的前面。\n",
    "*   “#2” 子类必须在括号内指定父类，“#3” 同时__init__方法接受创建父类所需要的参数。\n",
    "*   “#4” super()是一个特殊函数，帮助Python将父类和子类关联起来。它会调用ElectricCar的父类方法__init__()，结果是让ElectricCar实例包含父类的所有属性。父类也称作为“超类”（superClass）。\n",
    "*   “#5” 创建ElectricCar类的一个实例，并将其存储在变量my_tesla中。提供了实参‘tesla’、‘model S’和2016。"
   ]
  }
 ],
 "metadata": {
  "kernelspec": {
   "display_name": "Python 3",
   "language": "python",
   "name": "python3"
  },
  "language_info": {
   "codemirror_mode": {
    "name": "ipython",
    "version": 3
   },
   "file_extension": ".py",
   "mimetype": "text/x-python",
   "name": "python",
   "nbconvert_exporter": "python",
   "pygments_lexer": "ipython3",
   "version": "3.11.4"
  }
 },
 "nbformat": 4,
 "nbformat_minor": 2
}
