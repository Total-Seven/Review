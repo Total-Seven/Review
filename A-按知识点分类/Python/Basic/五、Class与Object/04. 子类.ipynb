{
 "cells": [
  {
   "cell_type": "markdown",
   "metadata": {},
   "source": [
    "# 继承"
   ]
  },
  {
   "cell_type": "markdown",
   "metadata": {},
   "source": [
    "> 生孩子，孩子自动拥有了父母所有的基本属性和方法。"
   ]
  },
  {
   "cell_type": "markdown",
   "metadata": {},
   "source": [
    "### 例子：\n",
    "*   车\n",
    "    *   电动汽车\n",
    "    *   摩托车\n",
    "    *   三轮车\n",
    "    *   婴儿车\n",
    "    *   单轮车\n",
    "> 所有的车都有轮子，都能前进。\n",
    "*   动物\n",
    "    *   哺乳动物\n",
    "    *   鱼类\n",
    "    *   鸟类\n",
    "    *   爬行类\n",
    "    *   两栖类\n",
    "> 所有的动物都有xx，都能吃喝拉撒睡。"
   ]
  }
 ],
 "metadata": {
  "language_info": {
   "name": "python"
  }
 },
 "nbformat": 4,
 "nbformat_minor": 2
}
