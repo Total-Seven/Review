{
 "cells": [
  {
   "cell_type": "markdown",
   "id": "fa8ec56b",
   "metadata": {},
   "source": [
    "## HTTP：是服务器和客户端传输文本的通信协议"
   ]
  },
  {
   "cell_type": "code",
   "execution_count": 11,
   "id": "ef58888e",
   "metadata": {},
   "outputs": [],
   "source": [
    "import requests as r"
   ]
  },
  {
   "cell_type": "code",
   "execution_count": 15,
   "id": "7a8ef6a2",
   "metadata": {},
   "outputs": [],
   "source": [
    "res = r.get(\"https://www.qq.com/\")"
   ]
  },
  {
   "cell_type": "code",
   "execution_count": 16,
   "id": "005bb6b6",
   "metadata": {},
   "outputs": [
    {
     "data": {
      "text/plain": [
       "501"
      ]
     },
     "execution_count": 16,
     "metadata": {},
     "output_type": "execute_result"
    }
   ],
   "source": [
    "res.status_code"
   ]
  },
  {
   "cell_type": "markdown",
   "id": "4f4d18cc",
   "metadata": {},
   "source": [
    "## What does it mean?"
   ]
  },
  {
   "cell_type": "markdown",
   "id": "75d9730d",
   "metadata": {},
   "source": [
    "<a href=\"https://http.cat/status/501\">\n",
    "<img src=\"image\\501cat.png\" width=50%>\n",
    "</a>"
   ]
  },
  {
   "cell_type": "code",
   "execution_count": null,
   "id": "ab4ba1a2",
   "metadata": {},
   "outputs": [],
   "source": []
  }
 ],
 "metadata": {
  "kernelspec": {
   "display_name": "Python 3 (ipykernel)",
   "language": "python",
   "name": "python3"
  },
  "language_info": {
   "codemirror_mode": {
    "name": "ipython",
    "version": 3
   },
   "file_extension": ".py",
   "mimetype": "text/x-python",
   "name": "python",
   "nbconvert_exporter": "python",
   "pygments_lexer": "ipython3",
   "version": "3.11.4"
  }
 },
 "nbformat": 4,
 "nbformat_minor": 5
}
