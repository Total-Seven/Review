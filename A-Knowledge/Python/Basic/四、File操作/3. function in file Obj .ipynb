{
 "cells": [
  {
   "cell_type": "markdown",
   "metadata": {},
   "source": [
    "# file对象常用函数"
   ]
  },
  {
   "cell_type": "markdown",
   "metadata": {},
   "source": [
    "* ### file.close()\n",
    "> 关闭文件"
   ]
  },
  {
   "cell_type": "markdown",
   "metadata": {},
   "source": [
    "* ### file.read( [size] )\n",
    "> 读取size字节\n",
    "> 如果size为空或为负数，则读取所有行  \n",
    "  \n",
    "* ### file.readline( [size] )\n",
    "> 读取整行，包括\"\\n\"字符\n",
    "\n",
    "* ### file.readlines( [sizeint] )\n",
    "> 读取所有行，返回列表；\n",
    "> 若sizeint>0,返回若干行，实际可能比sizeint大"
   ]
  },
  {
   "cell_type": "markdown",
   "metadata": {},
   "source": [
    "* ### file.seek( offset[,whence] )\n",
    "> 移动指针到指定位置"
   ]
  },
  {
   "cell_type": "markdown",
   "metadata": {},
   "source": [
    "* ### file.tell()\n",
    "> 返回文件当前位置"
   ]
  },
  {
   "cell_type": "markdown",
   "metadata": {},
   "source": [
    "* ### file.writr(str)\n",
    "> 写入文件，会返回写入的字符长度"
   ]
  },
  {
   "cell_type": "markdown",
   "metadata": {},
   "source": [
    "* ### file.writelines( sequence )\n",
    "> 写入一个序列字符串列表，\n",
    "> 不换行，需要手动写好每行的换行符"
   ]
  }
 ],
 "metadata": {
  "kernelspec": {
   "display_name": "Python 3",
   "language": "python",
   "name": "python3"
  },
  "language_info": {
   "codemirror_mode": {
    "name": "ipython",
    "version": 3
   },
   "file_extension": ".py",
   "mimetype": "text/x-python",
   "name": "python",
   "nbconvert_exporter": "python",
   "pygments_lexer": "ipython3",
   "version": "3.11.4"
  }
 },
 "nbformat": 4,
 "nbformat_minor": 2
}
