{
 "cells": [
  {
   "cell_type": "code",
   "execution_count": 5,
   "metadata": {},
   "outputs": [
    {
     "data": {
      "text/plain": [
       "<_io.TextIOWrapper name='E:\\\\1.007\\\\CodeReview\\\\A-按知识点分类\\\\Python\\\\Basic\\\\File操作\\\\test_os.py' mode='r' encoding='cp936'>"
      ]
     },
     "execution_count": 5,
     "metadata": {},
     "output_type": "execute_result"
    }
   ],
   "source": [
    "file = open(r\"E:\\1.007\\CodeReview\\A-按知识点分类\\Python\\Basic\\File操作\\test_os.py\",\"r\")\n",
    "file"
   ]
  },
  {
   "cell_type": "markdown",
   "metadata": {},
   "source": [
    "### 可选参数\n",
    "* encoding ———— 编码\n",
    "* errors ———— 报错级别\n",
    "* newline ———— 区分换行符\n",
    "* closefd ———— 传入file参数类型\n",
    "* opener ———— 自定义开启器，其返回值必须是一个打开的文件描述符\n",
    "\n",
    "> 默认以文本模式，可用“b”切换为二进制模式打开。"
   ]
  },
  {
   "cell_type": "code",
   "execution_count": 7,
   "metadata": {},
   "outputs": [
    {
     "data": {
      "text/plain": [
       "<_io.BufferedReader name='E:\\\\1.007\\\\CodeReview\\\\A-按知识点分类\\\\Python\\\\Basic\\\\File操作\\\\test_os.py'>"
      ]
     },
     "execution_count": 7,
     "metadata": {},
     "output_type": "execute_result"
    }
   ],
   "source": [
    "file = open(r\"E:\\1.007\\CodeReview\\A-按知识点分类\\Python\\Basic\\File操作\\test_os.py\",\"br\")\n",
    "file"
   ]
  }
 ],
 "metadata": {
  "kernelspec": {
   "display_name": "Python 3",
   "language": "python",
   "name": "python3"
  },
  "language_info": {
   "codemirror_mode": {
    "name": "ipython",
    "version": 3
   },
   "file_extension": ".py",
   "mimetype": "text/x-python",
   "name": "python",
   "nbconvert_exporter": "python",
   "pygments_lexer": "ipython3",
   "version": "3.11.4"
  }
 },
 "nbformat": 4,
 "nbformat_minor": 2
}
