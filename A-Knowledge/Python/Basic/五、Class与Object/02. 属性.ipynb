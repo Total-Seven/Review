{
 "cells": [
  {
   "cell_type": "markdown",
   "metadata": {},
   "source": [
    "# 修改属性的值\n",
    "*   通过实例访问，并用赋值语句修改\n",
    "*   在方法内修改（通过self参数访问）"
   ]
  }
 ],
 "metadata": {
  "language_info": {
   "name": "python"
  }
 },
 "nbformat": 4,
 "nbformat_minor": 2
}
