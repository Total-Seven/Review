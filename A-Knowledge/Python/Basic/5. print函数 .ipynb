{
 "cells": [
  {
   "cell_type": "markdown",
   "metadata": {},
   "source": [
    "### 5. print()函数\n",
    "   >  print() 函数会略去标示用的引号，并打印经过转义的特殊字符，产生更为易读的输出"
   ]
  },
  {
   "cell_type": "markdown",
   "metadata": {},
   "source": [
    "1. 相邻的两个或多个 字符串字面值 （引号标注的字符）会自动合并：\n",
    "2. 合并多个变量，或合并变量与字面值，要用 +：\n",
    "3. 除了可以以单一的表达式作为参数（比如，前面的计算器的例子），它还能处理多个参数，包括浮点数与字符串。\n",
    "4. 它输出的字符串不带引号，且各参数项之间会插入一个空格，这样可以实现更好的格式化操作："
   ]
  }
 ],
 "metadata": {
  "kernelspec": {
   "display_name": "Python 3",
   "language": "python",
   "name": "python3"
  },
  "language_info": {
   "codemirror_mode": {
    "name": "ipython",
    "version": 3
   },
   "file_extension": ".py",
   "mimetype": "text/x-python",
   "name": "python",
   "nbconvert_exporter": "python",
   "pygments_lexer": "ipython3",
   "version": "3.11.4"
  }
 },
 "nbformat": 4,
 "nbformat_minor": 2
}
