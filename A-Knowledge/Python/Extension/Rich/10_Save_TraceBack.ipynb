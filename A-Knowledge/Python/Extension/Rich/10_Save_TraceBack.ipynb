{
 "cells": [
  {
   "cell_type": "markdown",
   "metadata": {},
   "source": [
    "# Save"
   ]
  },
  {
   "cell_type": "code",
   "execution_count": 1,
   "metadata": {},
   "outputs": [
    {
     "data": {
      "text/html": [
       "<pre style=\"white-space:pre;overflow-x:auto;line-height:normal;font-family:Menlo,'DejaVu Sans Mono',consolas,'Courier New',monospace\"><span style=\"color: #7fbfbf; text-decoration-color: #7fbfbf\">[15:11:30] </span>About to add two numbers.                                                                <a href=\"file://C:\\Users\\Administrator\\AppData\\Local\\Temp\\ipykernel_9872\\2462016209.py\" target=\"_blank\"><span style=\"color: #7f7f7f; text-decoration-color: #7f7f7f\">2462016209.py</span></a><span style=\"color: #7f7f7f; text-decoration-color: #7f7f7f\">:</span><a href=\"file://C:\\Users\\Administrator\\AppData\\Local\\Temp\\ipykernel_9872\\2462016209.py#7\" target=\"_blank\"><span style=\"color: #7f7f7f; text-decoration-color: #7f7f7f\">7</span></a>\n",
       "<span style=\"color: #7fbfbf; text-decoration-color: #7fbfbf\">           </span><span style=\"color: #000080; text-decoration-color: #000080\">╭─ </span><span style=\"color: #000080; text-decoration-color: #000080; font-style: italic\">locals</span><span style=\"color: #000080; text-decoration-color: #000080\"> ─╮</span>                                                                             <span style=\"color: #7f7f7f; text-decoration-color: #7f7f7f\">               </span>\n",
       "<span style=\"color: #7fbfbf; text-decoration-color: #7fbfbf\">           </span><span style=\"color: #000080; text-decoration-color: #000080\">│</span> <span style=\"color: #808000; text-decoration-color: #808000; font-style: italic\">n1</span><span style=\"color: #800000; text-decoration-color: #800000\"> =</span> <span style=\"color: #008080; text-decoration-color: #008080; font-weight: bold\">1</span>   <span style=\"color: #000080; text-decoration-color: #000080\">│</span>                                                                             <span style=\"color: #7f7f7f; text-decoration-color: #7f7f7f\">               </span>\n",
       "<span style=\"color: #7fbfbf; text-decoration-color: #7fbfbf\">           </span><span style=\"color: #000080; text-decoration-color: #000080\">│</span> <span style=\"color: #808000; text-decoration-color: #808000; font-style: italic\">n2</span><span style=\"color: #800000; text-decoration-color: #800000\"> =</span> <span style=\"color: #008080; text-decoration-color: #008080; font-weight: bold\">0</span>   <span style=\"color: #000080; text-decoration-color: #000080\">│</span>                                                                             <span style=\"color: #7f7f7f; text-decoration-color: #7f7f7f\">               </span>\n",
       "<span style=\"color: #7fbfbf; text-decoration-color: #7fbfbf\">           </span><span style=\"color: #000080; text-decoration-color: #000080\">╰──────────╯</span>                                                                             <span style=\"color: #7f7f7f; text-decoration-color: #7f7f7f\">               </span>\n",
       "</pre>\n"
      ],
      "text/plain": [
       "\u001b[2;36m[15:11:30]\u001b[0m\u001b[2;36m \u001b[0mAbout to add two numbers.                                                                \u001b]8;id=524759;file://C:\\Users\\Administrator\\AppData\\Local\\Temp\\ipykernel_9872\\2462016209.py\u001b\\\u001b[2m2462016209.py\u001b[0m\u001b]8;;\u001b\\\u001b[2m:\u001b[0m\u001b]8;id=189845;file://C:\\Users\\Administrator\\AppData\\Local\\Temp\\ipykernel_9872\\2462016209.py#7\u001b\\\u001b[2m7\u001b[0m\u001b]8;;\u001b\\\n",
       "\u001b[2;36m           \u001b[0m\u001b[34m╭─\u001b[0m\u001b[34m \u001b[0m\u001b[3;34mlocals\u001b[0m\u001b[34m \u001b[0m\u001b[34m─╮\u001b[0m                                                                             \u001b[2m               \u001b[0m\n",
       "\u001b[2;36m           \u001b[0m\u001b[34m│\u001b[0m \u001b[3;33mn1\u001b[0m\u001b[31m =\u001b[0m \u001b[1;36m1\u001b[0m   \u001b[34m│\u001b[0m                                                                             \u001b[2m               \u001b[0m\n",
       "\u001b[2;36m           \u001b[0m\u001b[34m│\u001b[0m \u001b[3;33mn2\u001b[0m\u001b[31m =\u001b[0m \u001b[1;36m0\u001b[0m   \u001b[34m│\u001b[0m                                                                             \u001b[2m               \u001b[0m\n",
       "\u001b[2;36m           \u001b[0m\u001b[34m╰──────────╯\u001b[0m                                                                             \u001b[2m               \u001b[0m\n"
      ]
     },
     "metadata": {},
     "output_type": "display_data"
    },
    {
     "data": {
      "text/html": [
       "<pre style=\"white-space:pre;overflow-x:auto;line-height:normal;font-family:Menlo,'DejaVu Sans Mono',consolas,'Courier New',monospace\"><span style=\"color: #7fbfbf; text-decoration-color: #7fbfbf\">           </span>About to add two numbers.                                                                <a href=\"file://C:\\Users\\Administrator\\AppData\\Local\\Temp\\ipykernel_9872\\2462016209.py\" target=\"_blank\"><span style=\"color: #7f7f7f; text-decoration-color: #7f7f7f\">2462016209.py</span></a><span style=\"color: #7f7f7f; text-decoration-color: #7f7f7f\">:</span><a href=\"file://C:\\Users\\Administrator\\AppData\\Local\\Temp\\ipykernel_9872\\2462016209.py#7\" target=\"_blank\"><span style=\"color: #7f7f7f; text-decoration-color: #7f7f7f\">7</span></a>\n",
       "<span style=\"color: #7fbfbf; text-decoration-color: #7fbfbf\">           </span><span style=\"color: #000080; text-decoration-color: #000080\">╭─ </span><span style=\"color: #000080; text-decoration-color: #000080; font-style: italic\">locals</span><span style=\"color: #000080; text-decoration-color: #000080\"> ─╮</span>                                                                             <span style=\"color: #7f7f7f; text-decoration-color: #7f7f7f\">               </span>\n",
       "<span style=\"color: #7fbfbf; text-decoration-color: #7fbfbf\">           </span><span style=\"color: #000080; text-decoration-color: #000080\">│</span> <span style=\"color: #808000; text-decoration-color: #808000; font-style: italic\">n1</span><span style=\"color: #800000; text-decoration-color: #800000\"> =</span> <span style=\"color: #008080; text-decoration-color: #008080; font-weight: bold\">1</span>   <span style=\"color: #000080; text-decoration-color: #000080\">│</span>                                                                             <span style=\"color: #7f7f7f; text-decoration-color: #7f7f7f\">               </span>\n",
       "<span style=\"color: #7fbfbf; text-decoration-color: #7fbfbf\">           </span><span style=\"color: #000080; text-decoration-color: #000080\">│</span> <span style=\"color: #808000; text-decoration-color: #808000; font-style: italic\">n2</span><span style=\"color: #800000; text-decoration-color: #800000\"> =</span> <span style=\"color: #008080; text-decoration-color: #008080; font-weight: bold\">1</span>   <span style=\"color: #000080; text-decoration-color: #000080\">│</span>                                                                             <span style=\"color: #7f7f7f; text-decoration-color: #7f7f7f\">               </span>\n",
       "<span style=\"color: #7fbfbf; text-decoration-color: #7fbfbf\">           </span><span style=\"color: #000080; text-decoration-color: #000080\">╰──────────╯</span>                                                                             <span style=\"color: #7f7f7f; text-decoration-color: #7f7f7f\">               </span>\n",
       "</pre>\n"
      ],
      "text/plain": [
       "\u001b[2;36m          \u001b[0m\u001b[2;36m \u001b[0mAbout to add two numbers.                                                                \u001b]8;id=824902;file://C:\\Users\\Administrator\\AppData\\Local\\Temp\\ipykernel_9872\\2462016209.py\u001b\\\u001b[2m2462016209.py\u001b[0m\u001b]8;;\u001b\\\u001b[2m:\u001b[0m\u001b]8;id=515963;file://C:\\Users\\Administrator\\AppData\\Local\\Temp\\ipykernel_9872\\2462016209.py#7\u001b\\\u001b[2m7\u001b[0m\u001b]8;;\u001b\\\n",
       "\u001b[2;36m           \u001b[0m\u001b[34m╭─\u001b[0m\u001b[34m \u001b[0m\u001b[3;34mlocals\u001b[0m\u001b[34m \u001b[0m\u001b[34m─╮\u001b[0m                                                                             \u001b[2m               \u001b[0m\n",
       "\u001b[2;36m           \u001b[0m\u001b[34m│\u001b[0m \u001b[3;33mn1\u001b[0m\u001b[31m =\u001b[0m \u001b[1;36m1\u001b[0m   \u001b[34m│\u001b[0m                                                                             \u001b[2m               \u001b[0m\n",
       "\u001b[2;36m           \u001b[0m\u001b[34m│\u001b[0m \u001b[3;33mn2\u001b[0m\u001b[31m =\u001b[0m \u001b[1;36m1\u001b[0m   \u001b[34m│\u001b[0m                                                                             \u001b[2m               \u001b[0m\n",
       "\u001b[2;36m           \u001b[0m\u001b[34m╰──────────╯\u001b[0m                                                                             \u001b[2m               \u001b[0m\n"
      ]
     },
     "metadata": {},
     "output_type": "display_data"
    },
    {
     "data": {
      "text/html": [
       "<pre style=\"white-space:pre;overflow-x:auto;line-height:normal;font-family:Menlo,'DejaVu Sans Mono',consolas,'Courier New',monospace\"><span style=\"color: #7fbfbf; text-decoration-color: #7fbfbf\">[15:11:31] </span>About to add two numbers.                                                                <a href=\"file://C:\\Users\\Administrator\\AppData\\Local\\Temp\\ipykernel_9872\\2462016209.py\" target=\"_blank\"><span style=\"color: #7f7f7f; text-decoration-color: #7f7f7f\">2462016209.py</span></a><span style=\"color: #7f7f7f; text-decoration-color: #7f7f7f\">:</span><a href=\"file://C:\\Users\\Administrator\\AppData\\Local\\Temp\\ipykernel_9872\\2462016209.py#7\" target=\"_blank\"><span style=\"color: #7f7f7f; text-decoration-color: #7f7f7f\">7</span></a>\n",
       "<span style=\"color: #7fbfbf; text-decoration-color: #7fbfbf\">           </span><span style=\"color: #000080; text-decoration-color: #000080\">╭─ </span><span style=\"color: #000080; text-decoration-color: #000080; font-style: italic\">locals</span><span style=\"color: #000080; text-decoration-color: #000080\"> ─╮</span>                                                                             <span style=\"color: #7f7f7f; text-decoration-color: #7f7f7f\">               </span>\n",
       "<span style=\"color: #7fbfbf; text-decoration-color: #7fbfbf\">           </span><span style=\"color: #000080; text-decoration-color: #000080\">│</span> <span style=\"color: #808000; text-decoration-color: #808000; font-style: italic\">n1</span><span style=\"color: #800000; text-decoration-color: #800000\"> =</span> <span style=\"color: #008080; text-decoration-color: #008080; font-weight: bold\">1</span>   <span style=\"color: #000080; text-decoration-color: #000080\">│</span>                                                                             <span style=\"color: #7f7f7f; text-decoration-color: #7f7f7f\">               </span>\n",
       "<span style=\"color: #7fbfbf; text-decoration-color: #7fbfbf\">           </span><span style=\"color: #000080; text-decoration-color: #000080\">│</span> <span style=\"color: #808000; text-decoration-color: #808000; font-style: italic\">n2</span><span style=\"color: #800000; text-decoration-color: #800000\"> =</span> <span style=\"color: #008080; text-decoration-color: #008080; font-weight: bold\">2</span>   <span style=\"color: #000080; text-decoration-color: #000080\">│</span>                                                                             <span style=\"color: #7f7f7f; text-decoration-color: #7f7f7f\">               </span>\n",
       "<span style=\"color: #7fbfbf; text-decoration-color: #7fbfbf\">           </span><span style=\"color: #000080; text-decoration-color: #000080\">╰──────────╯</span>                                                                             <span style=\"color: #7f7f7f; text-decoration-color: #7f7f7f\">               </span>\n",
       "</pre>\n"
      ],
      "text/plain": [
       "\u001b[2;36m[15:11:31]\u001b[0m\u001b[2;36m \u001b[0mAbout to add two numbers.                                                                \u001b]8;id=386010;file://C:\\Users\\Administrator\\AppData\\Local\\Temp\\ipykernel_9872\\2462016209.py\u001b\\\u001b[2m2462016209.py\u001b[0m\u001b]8;;\u001b\\\u001b[2m:\u001b[0m\u001b]8;id=728692;file://C:\\Users\\Administrator\\AppData\\Local\\Temp\\ipykernel_9872\\2462016209.py#7\u001b\\\u001b[2m7\u001b[0m\u001b]8;;\u001b\\\n",
       "\u001b[2;36m           \u001b[0m\u001b[34m╭─\u001b[0m\u001b[34m \u001b[0m\u001b[3;34mlocals\u001b[0m\u001b[34m \u001b[0m\u001b[34m─╮\u001b[0m                                                                             \u001b[2m               \u001b[0m\n",
       "\u001b[2;36m           \u001b[0m\u001b[34m│\u001b[0m \u001b[3;33mn1\u001b[0m\u001b[31m =\u001b[0m \u001b[1;36m1\u001b[0m   \u001b[34m│\u001b[0m                                                                             \u001b[2m               \u001b[0m\n",
       "\u001b[2;36m           \u001b[0m\u001b[34m│\u001b[0m \u001b[3;33mn2\u001b[0m\u001b[31m =\u001b[0m \u001b[1;36m2\u001b[0m   \u001b[34m│\u001b[0m                                                                             \u001b[2m               \u001b[0m\n",
       "\u001b[2;36m           \u001b[0m\u001b[34m╰──────────╯\u001b[0m                                                                             \u001b[2m               \u001b[0m\n"
      ]
     },
     "metadata": {},
     "output_type": "display_data"
    },
    {
     "data": {
      "text/html": [
       "<pre style=\"white-space:pre;overflow-x:auto;line-height:normal;font-family:Menlo,'DejaVu Sans Mono',consolas,'Courier New',monospace\"><span style=\"color: #7fbfbf; text-decoration-color: #7fbfbf\">           </span>About to add two numbers.                                                                <a href=\"file://C:\\Users\\Administrator\\AppData\\Local\\Temp\\ipykernel_9872\\2462016209.py\" target=\"_blank\"><span style=\"color: #7f7f7f; text-decoration-color: #7f7f7f\">2462016209.py</span></a><span style=\"color: #7f7f7f; text-decoration-color: #7f7f7f\">:</span><a href=\"file://C:\\Users\\Administrator\\AppData\\Local\\Temp\\ipykernel_9872\\2462016209.py#7\" target=\"_blank\"><span style=\"color: #7f7f7f; text-decoration-color: #7f7f7f\">7</span></a>\n",
       "<span style=\"color: #7fbfbf; text-decoration-color: #7fbfbf\">           </span><span style=\"color: #000080; text-decoration-color: #000080\">╭─ </span><span style=\"color: #000080; text-decoration-color: #000080; font-style: italic\">locals</span><span style=\"color: #000080; text-decoration-color: #000080\"> ─╮</span>                                                                             <span style=\"color: #7f7f7f; text-decoration-color: #7f7f7f\">               </span>\n",
       "<span style=\"color: #7fbfbf; text-decoration-color: #7fbfbf\">           </span><span style=\"color: #000080; text-decoration-color: #000080\">│</span> <span style=\"color: #808000; text-decoration-color: #808000; font-style: italic\">n1</span><span style=\"color: #800000; text-decoration-color: #800000\"> =</span> <span style=\"color: #008080; text-decoration-color: #008080; font-weight: bold\">1</span>   <span style=\"color: #000080; text-decoration-color: #000080\">│</span>                                                                             <span style=\"color: #7f7f7f; text-decoration-color: #7f7f7f\">               </span>\n",
       "<span style=\"color: #7fbfbf; text-decoration-color: #7fbfbf\">           </span><span style=\"color: #000080; text-decoration-color: #000080\">│</span> <span style=\"color: #808000; text-decoration-color: #808000; font-style: italic\">n2</span><span style=\"color: #800000; text-decoration-color: #800000\"> =</span> <span style=\"color: #008080; text-decoration-color: #008080; font-weight: bold\">3</span>   <span style=\"color: #000080; text-decoration-color: #000080\">│</span>                                                                             <span style=\"color: #7f7f7f; text-decoration-color: #7f7f7f\">               </span>\n",
       "<span style=\"color: #7fbfbf; text-decoration-color: #7fbfbf\">           </span><span style=\"color: #000080; text-decoration-color: #000080\">╰──────────╯</span>                                                                             <span style=\"color: #7f7f7f; text-decoration-color: #7f7f7f\">               </span>\n",
       "</pre>\n"
      ],
      "text/plain": [
       "\u001b[2;36m          \u001b[0m\u001b[2;36m \u001b[0mAbout to add two numbers.                                                                \u001b]8;id=568176;file://C:\\Users\\Administrator\\AppData\\Local\\Temp\\ipykernel_9872\\2462016209.py\u001b\\\u001b[2m2462016209.py\u001b[0m\u001b]8;;\u001b\\\u001b[2m:\u001b[0m\u001b]8;id=924945;file://C:\\Users\\Administrator\\AppData\\Local\\Temp\\ipykernel_9872\\2462016209.py#7\u001b\\\u001b[2m7\u001b[0m\u001b]8;;\u001b\\\n",
       "\u001b[2;36m           \u001b[0m\u001b[34m╭─\u001b[0m\u001b[34m \u001b[0m\u001b[3;34mlocals\u001b[0m\u001b[34m \u001b[0m\u001b[34m─╮\u001b[0m                                                                             \u001b[2m               \u001b[0m\n",
       "\u001b[2;36m           \u001b[0m\u001b[34m│\u001b[0m \u001b[3;33mn1\u001b[0m\u001b[31m =\u001b[0m \u001b[1;36m1\u001b[0m   \u001b[34m│\u001b[0m                                                                             \u001b[2m               \u001b[0m\n",
       "\u001b[2;36m           \u001b[0m\u001b[34m│\u001b[0m \u001b[3;33mn2\u001b[0m\u001b[31m =\u001b[0m \u001b[1;36m3\u001b[0m   \u001b[34m│\u001b[0m                                                                             \u001b[2m               \u001b[0m\n",
       "\u001b[2;36m           \u001b[0m\u001b[34m╰──────────╯\u001b[0m                                                                             \u001b[2m               \u001b[0m\n"
      ]
     },
     "metadata": {},
     "output_type": "display_data"
    },
    {
     "data": {
      "text/html": [
       "<pre style=\"white-space:pre;overflow-x:auto;line-height:normal;font-family:Menlo,'DejaVu Sans Mono',consolas,'Courier New',monospace\"><span style=\"color: #7fbfbf; text-decoration-color: #7fbfbf\">           </span>About to add two numbers.                                                                <a href=\"file://C:\\Users\\Administrator\\AppData\\Local\\Temp\\ipykernel_9872\\2462016209.py\" target=\"_blank\"><span style=\"color: #7f7f7f; text-decoration-color: #7f7f7f\">2462016209.py</span></a><span style=\"color: #7f7f7f; text-decoration-color: #7f7f7f\">:</span><a href=\"file://C:\\Users\\Administrator\\AppData\\Local\\Temp\\ipykernel_9872\\2462016209.py#7\" target=\"_blank\"><span style=\"color: #7f7f7f; text-decoration-color: #7f7f7f\">7</span></a>\n",
       "<span style=\"color: #7fbfbf; text-decoration-color: #7fbfbf\">           </span><span style=\"color: #000080; text-decoration-color: #000080\">╭─ </span><span style=\"color: #000080; text-decoration-color: #000080; font-style: italic\">locals</span><span style=\"color: #000080; text-decoration-color: #000080\"> ─╮</span>                                                                             <span style=\"color: #7f7f7f; text-decoration-color: #7f7f7f\">               </span>\n",
       "<span style=\"color: #7fbfbf; text-decoration-color: #7fbfbf\">           </span><span style=\"color: #000080; text-decoration-color: #000080\">│</span> <span style=\"color: #808000; text-decoration-color: #808000; font-style: italic\">n1</span><span style=\"color: #800000; text-decoration-color: #800000\"> =</span> <span style=\"color: #008080; text-decoration-color: #008080; font-weight: bold\">1</span>   <span style=\"color: #000080; text-decoration-color: #000080\">│</span>                                                                             <span style=\"color: #7f7f7f; text-decoration-color: #7f7f7f\">               </span>\n",
       "<span style=\"color: #7fbfbf; text-decoration-color: #7fbfbf\">           </span><span style=\"color: #000080; text-decoration-color: #000080\">│</span> <span style=\"color: #808000; text-decoration-color: #808000; font-style: italic\">n2</span><span style=\"color: #800000; text-decoration-color: #800000\"> =</span> <span style=\"color: #008080; text-decoration-color: #008080; font-weight: bold\">4</span>   <span style=\"color: #000080; text-decoration-color: #000080\">│</span>                                                                             <span style=\"color: #7f7f7f; text-decoration-color: #7f7f7f\">               </span>\n",
       "<span style=\"color: #7fbfbf; text-decoration-color: #7fbfbf\">           </span><span style=\"color: #000080; text-decoration-color: #000080\">╰──────────╯</span>                                                                             <span style=\"color: #7f7f7f; text-decoration-color: #7f7f7f\">               </span>\n",
       "</pre>\n"
      ],
      "text/plain": [
       "\u001b[2;36m          \u001b[0m\u001b[2;36m \u001b[0mAbout to add two numbers.                                                                \u001b]8;id=50277;file://C:\\Users\\Administrator\\AppData\\Local\\Temp\\ipykernel_9872\\2462016209.py\u001b\\\u001b[2m2462016209.py\u001b[0m\u001b]8;;\u001b\\\u001b[2m:\u001b[0m\u001b]8;id=770011;file://C:\\Users\\Administrator\\AppData\\Local\\Temp\\ipykernel_9872\\2462016209.py#7\u001b\\\u001b[2m7\u001b[0m\u001b]8;;\u001b\\\n",
       "\u001b[2;36m           \u001b[0m\u001b[34m╭─\u001b[0m\u001b[34m \u001b[0m\u001b[3;34mlocals\u001b[0m\u001b[34m \u001b[0m\u001b[34m─╮\u001b[0m                                                                             \u001b[2m               \u001b[0m\n",
       "\u001b[2;36m           \u001b[0m\u001b[34m│\u001b[0m \u001b[3;33mn1\u001b[0m\u001b[31m =\u001b[0m \u001b[1;36m1\u001b[0m   \u001b[34m│\u001b[0m                                                                             \u001b[2m               \u001b[0m\n",
       "\u001b[2;36m           \u001b[0m\u001b[34m│\u001b[0m \u001b[3;33mn2\u001b[0m\u001b[31m =\u001b[0m \u001b[1;36m4\u001b[0m   \u001b[34m│\u001b[0m                                                                             \u001b[2m               \u001b[0m\n",
       "\u001b[2;36m           \u001b[0m\u001b[34m╰──────────╯\u001b[0m                                                                             \u001b[2m               \u001b[0m\n"
      ]
     },
     "metadata": {},
     "output_type": "display_data"
    },
    {
     "data": {
      "text/html": [
       "<pre style=\"white-space:pre;overflow-x:auto;line-height:normal;font-family:Menlo,'DejaVu Sans Mono',consolas,'Courier New',monospace\"><span style=\"color: #7fbfbf; text-decoration-color: #7fbfbf\">           </span>About to add two numbers.                                                                <a href=\"file://C:\\Users\\Administrator\\AppData\\Local\\Temp\\ipykernel_9872\\2462016209.py\" target=\"_blank\"><span style=\"color: #7f7f7f; text-decoration-color: #7f7f7f\">2462016209.py</span></a><span style=\"color: #7f7f7f; text-decoration-color: #7f7f7f\">:</span><a href=\"file://C:\\Users\\Administrator\\AppData\\Local\\Temp\\ipykernel_9872\\2462016209.py#7\" target=\"_blank\"><span style=\"color: #7f7f7f; text-decoration-color: #7f7f7f\">7</span></a>\n",
       "<span style=\"color: #7fbfbf; text-decoration-color: #7fbfbf\">           </span><span style=\"color: #000080; text-decoration-color: #000080\">╭─ </span><span style=\"color: #000080; text-decoration-color: #000080; font-style: italic\">locals</span><span style=\"color: #000080; text-decoration-color: #000080\"> ─╮</span>                                                                             <span style=\"color: #7f7f7f; text-decoration-color: #7f7f7f\">               </span>\n",
       "<span style=\"color: #7fbfbf; text-decoration-color: #7fbfbf\">           </span><span style=\"color: #000080; text-decoration-color: #000080\">│</span> <span style=\"color: #808000; text-decoration-color: #808000; font-style: italic\">n1</span><span style=\"color: #800000; text-decoration-color: #800000\"> =</span> <span style=\"color: #008080; text-decoration-color: #008080; font-weight: bold\">1</span>   <span style=\"color: #000080; text-decoration-color: #000080\">│</span>                                                                             <span style=\"color: #7f7f7f; text-decoration-color: #7f7f7f\">               </span>\n",
       "<span style=\"color: #7fbfbf; text-decoration-color: #7fbfbf\">           </span><span style=\"color: #000080; text-decoration-color: #000080\">│</span> <span style=\"color: #808000; text-decoration-color: #808000; font-style: italic\">n2</span><span style=\"color: #800000; text-decoration-color: #800000\"> =</span> <span style=\"color: #008080; text-decoration-color: #008080; font-weight: bold\">5</span>   <span style=\"color: #000080; text-decoration-color: #000080\">│</span>                                                                             <span style=\"color: #7f7f7f; text-decoration-color: #7f7f7f\">               </span>\n",
       "<span style=\"color: #7fbfbf; text-decoration-color: #7fbfbf\">           </span><span style=\"color: #000080; text-decoration-color: #000080\">╰──────────╯</span>                                                                             <span style=\"color: #7f7f7f; text-decoration-color: #7f7f7f\">               </span>\n",
       "</pre>\n"
      ],
      "text/plain": [
       "\u001b[2;36m          \u001b[0m\u001b[2;36m \u001b[0mAbout to add two numbers.                                                                \u001b]8;id=122715;file://C:\\Users\\Administrator\\AppData\\Local\\Temp\\ipykernel_9872\\2462016209.py\u001b\\\u001b[2m2462016209.py\u001b[0m\u001b]8;;\u001b\\\u001b[2m:\u001b[0m\u001b]8;id=685082;file://C:\\Users\\Administrator\\AppData\\Local\\Temp\\ipykernel_9872\\2462016209.py#7\u001b\\\u001b[2m7\u001b[0m\u001b]8;;\u001b\\\n",
       "\u001b[2;36m           \u001b[0m\u001b[34m╭─\u001b[0m\u001b[34m \u001b[0m\u001b[3;34mlocals\u001b[0m\u001b[34m \u001b[0m\u001b[34m─╮\u001b[0m                                                                             \u001b[2m               \u001b[0m\n",
       "\u001b[2;36m           \u001b[0m\u001b[34m│\u001b[0m \u001b[3;33mn1\u001b[0m\u001b[31m =\u001b[0m \u001b[1;36m1\u001b[0m   \u001b[34m│\u001b[0m                                                                             \u001b[2m               \u001b[0m\n",
       "\u001b[2;36m           \u001b[0m\u001b[34m│\u001b[0m \u001b[3;33mn2\u001b[0m\u001b[31m =\u001b[0m \u001b[1;36m5\u001b[0m   \u001b[34m│\u001b[0m                                                                             \u001b[2m               \u001b[0m\n",
       "\u001b[2;36m           \u001b[0m\u001b[34m╰──────────╯\u001b[0m                                                                             \u001b[2m               \u001b[0m\n"
      ]
     },
     "metadata": {},
     "output_type": "display_data"
    },
    {
     "data": {
      "text/html": [
       "<pre style=\"white-space:pre;overflow-x:auto;line-height:normal;font-family:Menlo,'DejaVu Sans Mono',consolas,'Courier New',monospace\"><span style=\"color: #7fbfbf; text-decoration-color: #7fbfbf\">           </span>About to add two numbers.                                                                <a href=\"file://C:\\Users\\Administrator\\AppData\\Local\\Temp\\ipykernel_9872\\2462016209.py\" target=\"_blank\"><span style=\"color: #7f7f7f; text-decoration-color: #7f7f7f\">2462016209.py</span></a><span style=\"color: #7f7f7f; text-decoration-color: #7f7f7f\">:</span><a href=\"file://C:\\Users\\Administrator\\AppData\\Local\\Temp\\ipykernel_9872\\2462016209.py#7\" target=\"_blank\"><span style=\"color: #7f7f7f; text-decoration-color: #7f7f7f\">7</span></a>\n",
       "<span style=\"color: #7fbfbf; text-decoration-color: #7fbfbf\">           </span><span style=\"color: #000080; text-decoration-color: #000080\">╭─ </span><span style=\"color: #000080; text-decoration-color: #000080; font-style: italic\">locals</span><span style=\"color: #000080; text-decoration-color: #000080\"> ─╮</span>                                                                             <span style=\"color: #7f7f7f; text-decoration-color: #7f7f7f\">               </span>\n",
       "<span style=\"color: #7fbfbf; text-decoration-color: #7fbfbf\">           </span><span style=\"color: #000080; text-decoration-color: #000080\">│</span> <span style=\"color: #808000; text-decoration-color: #808000; font-style: italic\">n1</span><span style=\"color: #800000; text-decoration-color: #800000\"> =</span> <span style=\"color: #008080; text-decoration-color: #008080; font-weight: bold\">1</span>   <span style=\"color: #000080; text-decoration-color: #000080\">│</span>                                                                             <span style=\"color: #7f7f7f; text-decoration-color: #7f7f7f\">               </span>\n",
       "<span style=\"color: #7fbfbf; text-decoration-color: #7fbfbf\">           </span><span style=\"color: #000080; text-decoration-color: #000080\">│</span> <span style=\"color: #808000; text-decoration-color: #808000; font-style: italic\">n2</span><span style=\"color: #800000; text-decoration-color: #800000\"> =</span> <span style=\"color: #008080; text-decoration-color: #008080; font-weight: bold\">6</span>   <span style=\"color: #000080; text-decoration-color: #000080\">│</span>                                                                             <span style=\"color: #7f7f7f; text-decoration-color: #7f7f7f\">               </span>\n",
       "<span style=\"color: #7fbfbf; text-decoration-color: #7fbfbf\">           </span><span style=\"color: #000080; text-decoration-color: #000080\">╰──────────╯</span>                                                                             <span style=\"color: #7f7f7f; text-decoration-color: #7f7f7f\">               </span>\n",
       "</pre>\n"
      ],
      "text/plain": [
       "\u001b[2;36m          \u001b[0m\u001b[2;36m \u001b[0mAbout to add two numbers.                                                                \u001b]8;id=872016;file://C:\\Users\\Administrator\\AppData\\Local\\Temp\\ipykernel_9872\\2462016209.py\u001b\\\u001b[2m2462016209.py\u001b[0m\u001b]8;;\u001b\\\u001b[2m:\u001b[0m\u001b]8;id=366068;file://C:\\Users\\Administrator\\AppData\\Local\\Temp\\ipykernel_9872\\2462016209.py#7\u001b\\\u001b[2m7\u001b[0m\u001b]8;;\u001b\\\n",
       "\u001b[2;36m           \u001b[0m\u001b[34m╭─\u001b[0m\u001b[34m \u001b[0m\u001b[3;34mlocals\u001b[0m\u001b[34m \u001b[0m\u001b[34m─╮\u001b[0m                                                                             \u001b[2m               \u001b[0m\n",
       "\u001b[2;36m           \u001b[0m\u001b[34m│\u001b[0m \u001b[3;33mn1\u001b[0m\u001b[31m =\u001b[0m \u001b[1;36m1\u001b[0m   \u001b[34m│\u001b[0m                                                                             \u001b[2m               \u001b[0m\n",
       "\u001b[2;36m           \u001b[0m\u001b[34m│\u001b[0m \u001b[3;33mn2\u001b[0m\u001b[31m =\u001b[0m \u001b[1;36m6\u001b[0m   \u001b[34m│\u001b[0m                                                                             \u001b[2m               \u001b[0m\n",
       "\u001b[2;36m           \u001b[0m\u001b[34m╰──────────╯\u001b[0m                                                                             \u001b[2m               \u001b[0m\n"
      ]
     },
     "metadata": {},
     "output_type": "display_data"
    },
    {
     "data": {
      "text/html": [
       "<pre style=\"white-space:pre;overflow-x:auto;line-height:normal;font-family:Menlo,'DejaVu Sans Mono',consolas,'Courier New',monospace\"><span style=\"color: #7fbfbf; text-decoration-color: #7fbfbf\">[15:11:32] </span>About to add two numbers.                                                                <a href=\"file://C:\\Users\\Administrator\\AppData\\Local\\Temp\\ipykernel_9872\\2462016209.py\" target=\"_blank\"><span style=\"color: #7f7f7f; text-decoration-color: #7f7f7f\">2462016209.py</span></a><span style=\"color: #7f7f7f; text-decoration-color: #7f7f7f\">:</span><a href=\"file://C:\\Users\\Administrator\\AppData\\Local\\Temp\\ipykernel_9872\\2462016209.py#7\" target=\"_blank\"><span style=\"color: #7f7f7f; text-decoration-color: #7f7f7f\">7</span></a>\n",
       "<span style=\"color: #7fbfbf; text-decoration-color: #7fbfbf\">           </span><span style=\"color: #000080; text-decoration-color: #000080\">╭─ </span><span style=\"color: #000080; text-decoration-color: #000080; font-style: italic\">locals</span><span style=\"color: #000080; text-decoration-color: #000080\"> ─╮</span>                                                                             <span style=\"color: #7f7f7f; text-decoration-color: #7f7f7f\">               </span>\n",
       "<span style=\"color: #7fbfbf; text-decoration-color: #7fbfbf\">           </span><span style=\"color: #000080; text-decoration-color: #000080\">│</span> <span style=\"color: #808000; text-decoration-color: #808000; font-style: italic\">n1</span><span style=\"color: #800000; text-decoration-color: #800000\"> =</span> <span style=\"color: #008080; text-decoration-color: #008080; font-weight: bold\">1</span>   <span style=\"color: #000080; text-decoration-color: #000080\">│</span>                                                                             <span style=\"color: #7f7f7f; text-decoration-color: #7f7f7f\">               </span>\n",
       "<span style=\"color: #7fbfbf; text-decoration-color: #7fbfbf\">           </span><span style=\"color: #000080; text-decoration-color: #000080\">│</span> <span style=\"color: #808000; text-decoration-color: #808000; font-style: italic\">n2</span><span style=\"color: #800000; text-decoration-color: #800000\"> =</span> <span style=\"color: #008080; text-decoration-color: #008080; font-weight: bold\">7</span>   <span style=\"color: #000080; text-decoration-color: #000080\">│</span>                                                                             <span style=\"color: #7f7f7f; text-decoration-color: #7f7f7f\">               </span>\n",
       "<span style=\"color: #7fbfbf; text-decoration-color: #7fbfbf\">           </span><span style=\"color: #000080; text-decoration-color: #000080\">╰──────────╯</span>                                                                             <span style=\"color: #7f7f7f; text-decoration-color: #7f7f7f\">               </span>\n",
       "</pre>\n"
      ],
      "text/plain": [
       "\u001b[2;36m[15:11:32]\u001b[0m\u001b[2;36m \u001b[0mAbout to add two numbers.                                                                \u001b]8;id=695797;file://C:\\Users\\Administrator\\AppData\\Local\\Temp\\ipykernel_9872\\2462016209.py\u001b\\\u001b[2m2462016209.py\u001b[0m\u001b]8;;\u001b\\\u001b[2m:\u001b[0m\u001b]8;id=734033;file://C:\\Users\\Administrator\\AppData\\Local\\Temp\\ipykernel_9872\\2462016209.py#7\u001b\\\u001b[2m7\u001b[0m\u001b]8;;\u001b\\\n",
       "\u001b[2;36m           \u001b[0m\u001b[34m╭─\u001b[0m\u001b[34m \u001b[0m\u001b[3;34mlocals\u001b[0m\u001b[34m \u001b[0m\u001b[34m─╮\u001b[0m                                                                             \u001b[2m               \u001b[0m\n",
       "\u001b[2;36m           \u001b[0m\u001b[34m│\u001b[0m \u001b[3;33mn1\u001b[0m\u001b[31m =\u001b[0m \u001b[1;36m1\u001b[0m   \u001b[34m│\u001b[0m                                                                             \u001b[2m               \u001b[0m\n",
       "\u001b[2;36m           \u001b[0m\u001b[34m│\u001b[0m \u001b[3;33mn2\u001b[0m\u001b[31m =\u001b[0m \u001b[1;36m7\u001b[0m   \u001b[34m│\u001b[0m                                                                             \u001b[2m               \u001b[0m\n",
       "\u001b[2;36m           \u001b[0m\u001b[34m╰──────────╯\u001b[0m                                                                             \u001b[2m               \u001b[0m\n"
      ]
     },
     "metadata": {},
     "output_type": "display_data"
    },
    {
     "data": {
      "text/html": [
       "<pre style=\"white-space:pre;overflow-x:auto;line-height:normal;font-family:Menlo,'DejaVu Sans Mono',consolas,'Courier New',monospace\"><span style=\"color: #7fbfbf; text-decoration-color: #7fbfbf\">           </span>About to add two numbers.                                                                <a href=\"file://C:\\Users\\Administrator\\AppData\\Local\\Temp\\ipykernel_9872\\2462016209.py\" target=\"_blank\"><span style=\"color: #7f7f7f; text-decoration-color: #7f7f7f\">2462016209.py</span></a><span style=\"color: #7f7f7f; text-decoration-color: #7f7f7f\">:</span><a href=\"file://C:\\Users\\Administrator\\AppData\\Local\\Temp\\ipykernel_9872\\2462016209.py#7\" target=\"_blank\"><span style=\"color: #7f7f7f; text-decoration-color: #7f7f7f\">7</span></a>\n",
       "<span style=\"color: #7fbfbf; text-decoration-color: #7fbfbf\">           </span><span style=\"color: #000080; text-decoration-color: #000080\">╭─ </span><span style=\"color: #000080; text-decoration-color: #000080; font-style: italic\">locals</span><span style=\"color: #000080; text-decoration-color: #000080\"> ─╮</span>                                                                             <span style=\"color: #7f7f7f; text-decoration-color: #7f7f7f\">               </span>\n",
       "<span style=\"color: #7fbfbf; text-decoration-color: #7fbfbf\">           </span><span style=\"color: #000080; text-decoration-color: #000080\">│</span> <span style=\"color: #808000; text-decoration-color: #808000; font-style: italic\">n1</span><span style=\"color: #800000; text-decoration-color: #800000\"> =</span> <span style=\"color: #008080; text-decoration-color: #008080; font-weight: bold\">1</span>   <span style=\"color: #000080; text-decoration-color: #000080\">│</span>                                                                             <span style=\"color: #7f7f7f; text-decoration-color: #7f7f7f\">               </span>\n",
       "<span style=\"color: #7fbfbf; text-decoration-color: #7fbfbf\">           </span><span style=\"color: #000080; text-decoration-color: #000080\">│</span> <span style=\"color: #808000; text-decoration-color: #808000; font-style: italic\">n2</span><span style=\"color: #800000; text-decoration-color: #800000\"> =</span> <span style=\"color: #008080; text-decoration-color: #008080; font-weight: bold\">8</span>   <span style=\"color: #000080; text-decoration-color: #000080\">│</span>                                                                             <span style=\"color: #7f7f7f; text-decoration-color: #7f7f7f\">               </span>\n",
       "<span style=\"color: #7fbfbf; text-decoration-color: #7fbfbf\">           </span><span style=\"color: #000080; text-decoration-color: #000080\">╰──────────╯</span>                                                                             <span style=\"color: #7f7f7f; text-decoration-color: #7f7f7f\">               </span>\n",
       "</pre>\n"
      ],
      "text/plain": [
       "\u001b[2;36m          \u001b[0m\u001b[2;36m \u001b[0mAbout to add two numbers.                                                                \u001b]8;id=599161;file://C:\\Users\\Administrator\\AppData\\Local\\Temp\\ipykernel_9872\\2462016209.py\u001b\\\u001b[2m2462016209.py\u001b[0m\u001b]8;;\u001b\\\u001b[2m:\u001b[0m\u001b]8;id=552281;file://C:\\Users\\Administrator\\AppData\\Local\\Temp\\ipykernel_9872\\2462016209.py#7\u001b\\\u001b[2m7\u001b[0m\u001b]8;;\u001b\\\n",
       "\u001b[2;36m           \u001b[0m\u001b[34m╭─\u001b[0m\u001b[34m \u001b[0m\u001b[3;34mlocals\u001b[0m\u001b[34m \u001b[0m\u001b[34m─╮\u001b[0m                                                                             \u001b[2m               \u001b[0m\n",
       "\u001b[2;36m           \u001b[0m\u001b[34m│\u001b[0m \u001b[3;33mn1\u001b[0m\u001b[31m =\u001b[0m \u001b[1;36m1\u001b[0m   \u001b[34m│\u001b[0m                                                                             \u001b[2m               \u001b[0m\n",
       "\u001b[2;36m           \u001b[0m\u001b[34m│\u001b[0m \u001b[3;33mn2\u001b[0m\u001b[31m =\u001b[0m \u001b[1;36m8\u001b[0m   \u001b[34m│\u001b[0m                                                                             \u001b[2m               \u001b[0m\n",
       "\u001b[2;36m           \u001b[0m\u001b[34m╰──────────╯\u001b[0m                                                                             \u001b[2m               \u001b[0m\n"
      ]
     },
     "metadata": {},
     "output_type": "display_data"
    },
    {
     "data": {
      "text/html": [
       "<pre style=\"white-space:pre;overflow-x:auto;line-height:normal;font-family:Menlo,'DejaVu Sans Mono',consolas,'Courier New',monospace\"><span style=\"color: #7fbfbf; text-decoration-color: #7fbfbf\">           </span>About to add two numbers.                                                                <a href=\"file://C:\\Users\\Administrator\\AppData\\Local\\Temp\\ipykernel_9872\\2462016209.py\" target=\"_blank\"><span style=\"color: #7f7f7f; text-decoration-color: #7f7f7f\">2462016209.py</span></a><span style=\"color: #7f7f7f; text-decoration-color: #7f7f7f\">:</span><a href=\"file://C:\\Users\\Administrator\\AppData\\Local\\Temp\\ipykernel_9872\\2462016209.py#7\" target=\"_blank\"><span style=\"color: #7f7f7f; text-decoration-color: #7f7f7f\">7</span></a>\n",
       "<span style=\"color: #7fbfbf; text-decoration-color: #7fbfbf\">           </span><span style=\"color: #000080; text-decoration-color: #000080\">╭─ </span><span style=\"color: #000080; text-decoration-color: #000080; font-style: italic\">locals</span><span style=\"color: #000080; text-decoration-color: #000080\"> ─╮</span>                                                                             <span style=\"color: #7f7f7f; text-decoration-color: #7f7f7f\">               </span>\n",
       "<span style=\"color: #7fbfbf; text-decoration-color: #7fbfbf\">           </span><span style=\"color: #000080; text-decoration-color: #000080\">│</span> <span style=\"color: #808000; text-decoration-color: #808000; font-style: italic\">n1</span><span style=\"color: #800000; text-decoration-color: #800000\"> =</span> <span style=\"color: #008080; text-decoration-color: #008080; font-weight: bold\">1</span>   <span style=\"color: #000080; text-decoration-color: #000080\">│</span>                                                                             <span style=\"color: #7f7f7f; text-decoration-color: #7f7f7f\">               </span>\n",
       "<span style=\"color: #7fbfbf; text-decoration-color: #7fbfbf\">           </span><span style=\"color: #000080; text-decoration-color: #000080\">│</span> <span style=\"color: #808000; text-decoration-color: #808000; font-style: italic\">n2</span><span style=\"color: #800000; text-decoration-color: #800000\"> =</span> <span style=\"color: #008080; text-decoration-color: #008080; font-weight: bold\">9</span>   <span style=\"color: #000080; text-decoration-color: #000080\">│</span>                                                                             <span style=\"color: #7f7f7f; text-decoration-color: #7f7f7f\">               </span>\n",
       "<span style=\"color: #7fbfbf; text-decoration-color: #7fbfbf\">           </span><span style=\"color: #000080; text-decoration-color: #000080\">╰──────────╯</span>                                                                             <span style=\"color: #7f7f7f; text-decoration-color: #7f7f7f\">               </span>\n",
       "</pre>\n"
      ],
      "text/plain": [
       "\u001b[2;36m          \u001b[0m\u001b[2;36m \u001b[0mAbout to add two numbers.                                                                \u001b]8;id=923339;file://C:\\Users\\Administrator\\AppData\\Local\\Temp\\ipykernel_9872\\2462016209.py\u001b\\\u001b[2m2462016209.py\u001b[0m\u001b]8;;\u001b\\\u001b[2m:\u001b[0m\u001b]8;id=678787;file://C:\\Users\\Administrator\\AppData\\Local\\Temp\\ipykernel_9872\\2462016209.py#7\u001b\\\u001b[2m7\u001b[0m\u001b]8;;\u001b\\\n",
       "\u001b[2;36m           \u001b[0m\u001b[34m╭─\u001b[0m\u001b[34m \u001b[0m\u001b[3;34mlocals\u001b[0m\u001b[34m \u001b[0m\u001b[34m─╮\u001b[0m                                                                             \u001b[2m               \u001b[0m\n",
       "\u001b[2;36m           \u001b[0m\u001b[34m│\u001b[0m \u001b[3;33mn1\u001b[0m\u001b[31m =\u001b[0m \u001b[1;36m1\u001b[0m   \u001b[34m│\u001b[0m                                                                             \u001b[2m               \u001b[0m\n",
       "\u001b[2;36m           \u001b[0m\u001b[34m│\u001b[0m \u001b[3;33mn2\u001b[0m\u001b[31m =\u001b[0m \u001b[1;36m9\u001b[0m   \u001b[34m│\u001b[0m                                                                             \u001b[2m               \u001b[0m\n",
       "\u001b[2;36m           \u001b[0m\u001b[34m╰──────────╯\u001b[0m                                                                             \u001b[2m               \u001b[0m\n"
      ]
     },
     "metadata": {},
     "output_type": "display_data"
    },
    {
     "data": {
      "text/html": [
       "<pre style=\"white-space:pre;overflow-x:auto;line-height:normal;font-family:Menlo,'DejaVu Sans Mono',consolas,'Courier New',monospace\"><span style=\"color: #7fbfbf; text-decoration-color: #7fbfbf\">           </span>About to add two numbers.                                                                <a href=\"file://C:\\Users\\Administrator\\AppData\\Local\\Temp\\ipykernel_9872\\2462016209.py\" target=\"_blank\"><span style=\"color: #7f7f7f; text-decoration-color: #7f7f7f\">2462016209.py</span></a><span style=\"color: #7f7f7f; text-decoration-color: #7f7f7f\">:</span><a href=\"file://C:\\Users\\Administrator\\AppData\\Local\\Temp\\ipykernel_9872\\2462016209.py#7\" target=\"_blank\"><span style=\"color: #7f7f7f; text-decoration-color: #7f7f7f\">7</span></a>\n",
       "<span style=\"color: #7fbfbf; text-decoration-color: #7fbfbf\">           </span><span style=\"color: #000080; text-decoration-color: #000080\">╭─ </span><span style=\"color: #000080; text-decoration-color: #000080; font-style: italic\">locals</span><span style=\"color: #000080; text-decoration-color: #000080\"> ─╮</span>                                                                             <span style=\"color: #7f7f7f; text-decoration-color: #7f7f7f\">               </span>\n",
       "<span style=\"color: #7fbfbf; text-decoration-color: #7fbfbf\">           </span><span style=\"color: #000080; text-decoration-color: #000080\">│</span> <span style=\"color: #808000; text-decoration-color: #808000; font-style: italic\">n1</span><span style=\"color: #800000; text-decoration-color: #800000\"> =</span> <span style=\"color: #008080; text-decoration-color: #008080; font-weight: bold\">1</span>   <span style=\"color: #000080; text-decoration-color: #000080\">│</span>                                                                             <span style=\"color: #7f7f7f; text-decoration-color: #7f7f7f\">               </span>\n",
       "<span style=\"color: #7fbfbf; text-decoration-color: #7fbfbf\">           </span><span style=\"color: #000080; text-decoration-color: #000080\">│</span> <span style=\"color: #808000; text-decoration-color: #808000; font-style: italic\">n2</span><span style=\"color: #800000; text-decoration-color: #800000\"> =</span> <span style=\"color: #008000; text-decoration-color: #008000\">'a'</span> <span style=\"color: #000080; text-decoration-color: #000080\">│</span>                                                                             <span style=\"color: #7f7f7f; text-decoration-color: #7f7f7f\">               </span>\n",
       "<span style=\"color: #7fbfbf; text-decoration-color: #7fbfbf\">           </span><span style=\"color: #000080; text-decoration-color: #000080\">╰──────────╯</span>                                                                             <span style=\"color: #7f7f7f; text-decoration-color: #7f7f7f\">               </span>\n",
       "</pre>\n"
      ],
      "text/plain": [
       "\u001b[2;36m          \u001b[0m\u001b[2;36m \u001b[0mAbout to add two numbers.                                                                \u001b]8;id=79703;file://C:\\Users\\Administrator\\AppData\\Local\\Temp\\ipykernel_9872\\2462016209.py\u001b\\\u001b[2m2462016209.py\u001b[0m\u001b]8;;\u001b\\\u001b[2m:\u001b[0m\u001b]8;id=3296;file://C:\\Users\\Administrator\\AppData\\Local\\Temp\\ipykernel_9872\\2462016209.py#7\u001b\\\u001b[2m7\u001b[0m\u001b]8;;\u001b\\\n",
       "\u001b[2;36m           \u001b[0m\u001b[34m╭─\u001b[0m\u001b[34m \u001b[0m\u001b[3;34mlocals\u001b[0m\u001b[34m \u001b[0m\u001b[34m─╮\u001b[0m                                                                             \u001b[2m               \u001b[0m\n",
       "\u001b[2;36m           \u001b[0m\u001b[34m│\u001b[0m \u001b[3;33mn1\u001b[0m\u001b[31m =\u001b[0m \u001b[1;36m1\u001b[0m   \u001b[34m│\u001b[0m                                                                             \u001b[2m               \u001b[0m\n",
       "\u001b[2;36m           \u001b[0m\u001b[34m│\u001b[0m \u001b[3;33mn2\u001b[0m\u001b[31m =\u001b[0m \u001b[32m'a'\u001b[0m \u001b[34m│\u001b[0m                                                                             \u001b[2m               \u001b[0m\n",
       "\u001b[2;36m           \u001b[0m\u001b[34m╰──────────╯\u001b[0m                                                                             \u001b[2m               \u001b[0m\n"
      ]
     },
     "metadata": {},
     "output_type": "display_data"
    },
    {
     "data": {
      "text/html": [
       "<pre style=\"white-space:pre;overflow-x:auto;line-height:normal;font-family:Menlo,'DejaVu Sans Mono',consolas,'Courier New',monospace\"><span style=\"color: #800000; text-decoration-color: #800000\">╭─────────────────────────────── </span><span style=\"color: #800000; text-decoration-color: #800000; font-weight: bold\">Traceback </span><span style=\"color: #bf7f7f; text-decoration-color: #bf7f7f; font-weight: bold\">(most recent call last)</span><span style=\"color: #800000; text-decoration-color: #800000\"> ────────────────────────────────╮</span>\n",
       "<span style=\"color: #800000; text-decoration-color: #800000\">│</span> in <span style=\"color: #00ff00; text-decoration-color: #00ff00\">&lt;module&gt;</span>:<span style=\"color: #0000ff; text-decoration-color: #0000ff\">15</span>                                                                                   <span style=\"color: #800000; text-decoration-color: #800000\">│</span>\n",
       "<span style=\"color: #800000; text-decoration-color: #800000\">│</span>                                                                                                  <span style=\"color: #800000; text-decoration-color: #800000\">│</span>\n",
       "<span style=\"color: #800000; text-decoration-color: #800000\">│</span>   <span style=\"color: #7f7f7f; text-decoration-color: #7f7f7f\">12 </span><span style=\"color: #7f7f7f; text-decoration-color: #7f7f7f\">│   </span><span style=\"color: #0000ff; text-decoration-color: #0000ff\">for</span> i <span style=\"color: #ff00ff; text-decoration-color: #ff00ff\">in</span> <span style=\"color: #00ffff; text-decoration-color: #00ffff\">range</span>(<span style=\"color: #0000ff; text-decoration-color: #0000ff\">10</span>):                                                                     <span style=\"color: #800000; text-decoration-color: #800000\">│</span>\n",
       "<span style=\"color: #800000; text-decoration-color: #800000\">│</span>   <span style=\"color: #7f7f7f; text-decoration-color: #7f7f7f\">13 </span><span style=\"color: #7f7f7f; text-decoration-color: #7f7f7f\">│   │   </span>time.sleep(<span style=\"color: #0000ff; text-decoration-color: #0000ff\">0.2</span>)                                                                     <span style=\"color: #800000; text-decoration-color: #800000\">│</span>\n",
       "<span style=\"color: #800000; text-decoration-color: #800000\">│</span>   <span style=\"color: #7f7f7f; text-decoration-color: #7f7f7f\">14 </span><span style=\"color: #7f7f7f; text-decoration-color: #7f7f7f\">│   │   </span>add_two(<span style=\"color: #0000ff; text-decoration-color: #0000ff\">1</span>, i)                                                                       <span style=\"color: #800000; text-decoration-color: #800000\">│</span>\n",
       "<span style=\"color: #800000; text-decoration-color: #800000\">│</span> <span style=\"color: #800000; text-decoration-color: #800000\">❱ </span>15 <span style=\"color: #7f7f7f; text-decoration-color: #7f7f7f\">│   </span>add_two(<span style=\"color: #0000ff; text-decoration-color: #0000ff\">1</span>, <span style=\"color: #808000; text-decoration-color: #808000\">'a'</span>)                                                                         <span style=\"color: #800000; text-decoration-color: #800000\">│</span>\n",
       "<span style=\"color: #800000; text-decoration-color: #800000\">│</span>   <span style=\"color: #7f7f7f; text-decoration-color: #7f7f7f\">16 </span><span style=\"color: #0000ff; text-decoration-color: #0000ff\">except</span>:                                                                                     <span style=\"color: #800000; text-decoration-color: #800000\">│</span>\n",
       "<span style=\"color: #800000; text-decoration-color: #800000\">│</span>   <span style=\"color: #7f7f7f; text-decoration-color: #7f7f7f\">17 </span><span style=\"color: #7f7f7f; text-decoration-color: #7f7f7f\">│   </span>console.print_exception()                                                               <span style=\"color: #800000; text-decoration-color: #800000\">│</span>\n",
       "<span style=\"color: #800000; text-decoration-color: #800000\">│</span>   <span style=\"color: #7f7f7f; text-decoration-color: #7f7f7f\">18 </span>                                                                                            <span style=\"color: #800000; text-decoration-color: #800000\">│</span>\n",
       "<span style=\"color: #800000; text-decoration-color: #800000\">│</span>                                                                                                  <span style=\"color: #800000; text-decoration-color: #800000\">│</span>\n",
       "<span style=\"color: #800000; text-decoration-color: #800000\">│</span> in <span style=\"color: #00ff00; text-decoration-color: #00ff00\">add_two</span>:<span style=\"color: #0000ff; text-decoration-color: #0000ff\">8</span>                                                                                     <span style=\"color: #800000; text-decoration-color: #800000\">│</span>\n",
       "<span style=\"color: #800000; text-decoration-color: #800000\">│</span>                                                                                                  <span style=\"color: #800000; text-decoration-color: #800000\">│</span>\n",
       "<span style=\"color: #800000; text-decoration-color: #800000\">│</span>   <span style=\"color: #7f7f7f; text-decoration-color: #7f7f7f\"> 5 </span>                                                                                            <span style=\"color: #800000; text-decoration-color: #800000\">│</span>\n",
       "<span style=\"color: #800000; text-decoration-color: #800000\">│</span>   <span style=\"color: #7f7f7f; text-decoration-color: #7f7f7f\"> 6 </span><span style=\"color: #0000ff; text-decoration-color: #0000ff\">def</span> <span style=\"color: #00ff00; text-decoration-color: #00ff00\">add_two</span>(n1, n2):                                                                        <span style=\"color: #800000; text-decoration-color: #800000\">│</span>\n",
       "<span style=\"color: #800000; text-decoration-color: #800000\">│</span>   <span style=\"color: #7f7f7f; text-decoration-color: #7f7f7f\"> 7 </span><span style=\"color: #7f7f7f; text-decoration-color: #7f7f7f\">│   </span>console.log(<span style=\"color: #808000; text-decoration-color: #808000\">\"About to add two numbers.\"</span>, log_locals=<span style=\"color: #0000ff; text-decoration-color: #0000ff\">True</span>)                               <span style=\"color: #800000; text-decoration-color: #800000\">│</span>\n",
       "<span style=\"color: #800000; text-decoration-color: #800000\">│</span> <span style=\"color: #800000; text-decoration-color: #800000\">❱ </span> 8 <span style=\"color: #7f7f7f; text-decoration-color: #7f7f7f\">│   </span><span style=\"color: #0000ff; text-decoration-color: #0000ff\">return</span> n1 + n2                                                                          <span style=\"color: #800000; text-decoration-color: #800000\">│</span>\n",
       "<span style=\"color: #800000; text-decoration-color: #800000\">│</span>   <span style=\"color: #7f7f7f; text-decoration-color: #7f7f7f\"> 9 </span>                                                                                            <span style=\"color: #800000; text-decoration-color: #800000\">│</span>\n",
       "<span style=\"color: #800000; text-decoration-color: #800000\">│</span>   <span style=\"color: #7f7f7f; text-decoration-color: #7f7f7f\">10 </span><span style=\"color: #0000ff; text-decoration-color: #0000ff\">try</span>:                                                                                        <span style=\"color: #800000; text-decoration-color: #800000\">│</span>\n",
       "<span style=\"color: #800000; text-decoration-color: #800000\">│</span>   <span style=\"color: #7f7f7f; text-decoration-color: #7f7f7f\">11 </span><span style=\"color: #7f7f7f; text-decoration-color: #7f7f7f\">│   </span>console = Console(record=<span style=\"color: #0000ff; text-decoration-color: #0000ff\">True</span>)                                                          <span style=\"color: #800000; text-decoration-color: #800000\">│</span>\n",
       "<span style=\"color: #800000; text-decoration-color: #800000\">╰──────────────────────────────────────────────────────────────────────────────────────────────────╯</span>\n",
       "<span style=\"color: #ff0000; text-decoration-color: #ff0000; font-weight: bold\">TypeError: </span>unsupported operand <span style=\"color: #800080; text-decoration-color: #800080; font-weight: bold\">type</span><span style=\"font-weight: bold\">(</span>s<span style=\"font-weight: bold\">)</span> for +: <span style=\"color: #008000; text-decoration-color: #008000\">'int'</span> and <span style=\"color: #008000; text-decoration-color: #008000\">'str'</span>\n",
       "</pre>\n"
      ],
      "text/plain": [
       "\u001b[31m╭─\u001b[0m\u001b[31m──────────────────────────────\u001b[0m\u001b[31m \u001b[0m\u001b[1;31mTraceback \u001b[0m\u001b[1;2;31m(most recent call last)\u001b[0m\u001b[31m \u001b[0m\u001b[31m───────────────────────────────\u001b[0m\u001b[31m─╮\u001b[0m\n",
       "\u001b[31m│\u001b[0m in \u001b[92m<module>\u001b[0m:\u001b[94m15\u001b[0m                                                                                   \u001b[31m│\u001b[0m\n",
       "\u001b[31m│\u001b[0m                                                                                                  \u001b[31m│\u001b[0m\n",
       "\u001b[31m│\u001b[0m   \u001b[2m12 \u001b[0m\u001b[2m│   \u001b[0m\u001b[94mfor\u001b[0m i \u001b[95min\u001b[0m \u001b[96mrange\u001b[0m(\u001b[94m10\u001b[0m):                                                                     \u001b[31m│\u001b[0m\n",
       "\u001b[31m│\u001b[0m   \u001b[2m13 \u001b[0m\u001b[2m│   │   \u001b[0mtime.sleep(\u001b[94m0.2\u001b[0m)                                                                     \u001b[31m│\u001b[0m\n",
       "\u001b[31m│\u001b[0m   \u001b[2m14 \u001b[0m\u001b[2m│   │   \u001b[0madd_two(\u001b[94m1\u001b[0m, i)                                                                       \u001b[31m│\u001b[0m\n",
       "\u001b[31m│\u001b[0m \u001b[31m❱ \u001b[0m15 \u001b[2m│   \u001b[0madd_two(\u001b[94m1\u001b[0m, \u001b[33m'\u001b[0m\u001b[33ma\u001b[0m\u001b[33m'\u001b[0m)                                                                         \u001b[31m│\u001b[0m\n",
       "\u001b[31m│\u001b[0m   \u001b[2m16 \u001b[0m\u001b[94mexcept\u001b[0m:                                                                                     \u001b[31m│\u001b[0m\n",
       "\u001b[31m│\u001b[0m   \u001b[2m17 \u001b[0m\u001b[2m│   \u001b[0mconsole.print_exception()                                                               \u001b[31m│\u001b[0m\n",
       "\u001b[31m│\u001b[0m   \u001b[2m18 \u001b[0m                                                                                            \u001b[31m│\u001b[0m\n",
       "\u001b[31m│\u001b[0m                                                                                                  \u001b[31m│\u001b[0m\n",
       "\u001b[31m│\u001b[0m in \u001b[92madd_two\u001b[0m:\u001b[94m8\u001b[0m                                                                                     \u001b[31m│\u001b[0m\n",
       "\u001b[31m│\u001b[0m                                                                                                  \u001b[31m│\u001b[0m\n",
       "\u001b[31m│\u001b[0m   \u001b[2m 5 \u001b[0m                                                                                            \u001b[31m│\u001b[0m\n",
       "\u001b[31m│\u001b[0m   \u001b[2m 6 \u001b[0m\u001b[94mdef\u001b[0m \u001b[92madd_two\u001b[0m(n1, n2):                                                                        \u001b[31m│\u001b[0m\n",
       "\u001b[31m│\u001b[0m   \u001b[2m 7 \u001b[0m\u001b[2m│   \u001b[0mconsole.log(\u001b[33m\"\u001b[0m\u001b[33mAbout to add two numbers.\u001b[0m\u001b[33m\"\u001b[0m, log_locals=\u001b[94mTrue\u001b[0m)                               \u001b[31m│\u001b[0m\n",
       "\u001b[31m│\u001b[0m \u001b[31m❱ \u001b[0m 8 \u001b[2m│   \u001b[0m\u001b[94mreturn\u001b[0m n1 + n2                                                                          \u001b[31m│\u001b[0m\n",
       "\u001b[31m│\u001b[0m   \u001b[2m 9 \u001b[0m                                                                                            \u001b[31m│\u001b[0m\n",
       "\u001b[31m│\u001b[0m   \u001b[2m10 \u001b[0m\u001b[94mtry\u001b[0m:                                                                                        \u001b[31m│\u001b[0m\n",
       "\u001b[31m│\u001b[0m   \u001b[2m11 \u001b[0m\u001b[2m│   \u001b[0mconsole = Console(record=\u001b[94mTrue\u001b[0m)                                                          \u001b[31m│\u001b[0m\n",
       "\u001b[31m╰──────────────────────────────────────────────────────────────────────────────────────────────────╯\u001b[0m\n",
       "\u001b[1;91mTypeError: \u001b[0munsupported operand \u001b[1;35mtype\u001b[0m\u001b[1m(\u001b[0ms\u001b[1m)\u001b[0m for +: \u001b[32m'int'\u001b[0m and \u001b[32m'str'\u001b[0m\n"
      ]
     },
     "metadata": {},
     "output_type": "display_data"
    }
   ],
   "source": [
    "import time\n",
    "from rich.console import Console\n",
    "from rich.traceback import install\n",
    "install()\n",
    "\n",
    "def add_two(n1, n2):\n",
    "    console.log(\"About to add two numbers.\", log_locals=True)\n",
    "    return n1 + n2\n",
    "\n",
    "try:\n",
    "    console = Console(record=True)\n",
    "    for i in range(10):\n",
    "        time.sleep(0.2)\n",
    "        add_two(1, i)\n",
    "    add_two(1, 'a')\n",
    "except:\n",
    "    console.print_exception()\n",
    "\n",
    "console.save_html(\"demo.html\")\n"
   ]
  }
 ],
 "metadata": {
  "kernelspec": {
   "display_name": "Python 3",
   "language": "python",
   "name": "python3"
  },
  "language_info": {
   "codemirror_mode": {
    "name": "ipython",
    "version": 3
   },
   "file_extension": ".py",
   "mimetype": "text/x-python",
   "name": "python",
   "nbconvert_exporter": "python",
   "pygments_lexer": "ipython3",
   "version": "3.11.5"
  }
 },
 "nbformat": 4,
 "nbformat_minor": 2
}
