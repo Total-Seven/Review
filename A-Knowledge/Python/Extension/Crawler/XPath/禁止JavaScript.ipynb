{
 "cells": [
  {
   "cell_type": "markdown",
   "metadata": {},
   "source": [
    "#####  Develop Tools ————> Setting ————> Bugger ————> disable JavaScript"
   ]
  },
  {
   "cell_type": "markdown",
   "metadata": {},
   "source": [
    "---"
   ]
  },
  {
   "cell_type": "markdown",
   "metadata": {},
   "source": [
    "|网站|是否是动态加载数据|现象|\n",
    "|---|---|---|\n",
    "|[x](https://x.com/)|是|显示异常缺省页|\n",
    "|[sofacore](https://www.sofascore.com/)|是|文档结构可见，但数据不可见|\n",
    "|[adamchoi](https://www.adamchoi.co.uk/overs/detailed)|是|空白页，文档结构和数据都不可见|"
   ]
  },
  {
   "cell_type": "markdown",
   "metadata": {},
   "source": [
    "---"
   ]
  }
 ],
 "metadata": {
  "language_info": {
   "name": "python"
  }
 },
 "nbformat": 4,
 "nbformat_minor": 2
}
