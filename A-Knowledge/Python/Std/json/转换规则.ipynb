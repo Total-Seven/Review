{
 "cells": [
  {
   "cell_type": "markdown",
   "metadata": {},
   "source": [
    "# Python-JSON"
   ]
  },
  {
   "cell_type": "markdown",
   "metadata": {},
   "source": [
    "| Python      | JSON |\n",
    "| ----------- | ----------- |\n",
    "| dict      | object       |\n",
    "| list,tuple   | array        |\n",
    "| str,unicode      | string       |\n",
    "| int,long,float   | number        |\n",
    "| True      | true       |\n",
    "| False   | false        |\n",
    "| None   | null        |"
   ]
  }
 ],
 "metadata": {
  "language_info": {
   "name": "python"
  }
 },
 "nbformat": 4,
 "nbformat_minor": 2
}
