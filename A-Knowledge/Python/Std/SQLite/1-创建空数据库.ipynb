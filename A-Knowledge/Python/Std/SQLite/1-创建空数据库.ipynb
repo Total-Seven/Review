{
 "cells": [
  {
   "cell_type": "markdown",
   "metadata": {},
   "source": [
    "# 创建新表"
   ]
  },
  {
   "cell_type": "code",
   "execution_count": 2,
   "metadata": {},
   "outputs": [
    {
     "data": {
      "text/plain": [
       "<sqlite3.Cursor at 0x2526cb4b5c0>"
      ]
     },
     "execution_count": 2,
     "metadata": {},
     "output_type": "execute_result"
    }
   ],
   "source": [
    "import sqlite3 as sql\n",
    "conn = sql.connect('d:/test.db')\n",
    "conn.execute(\"\"\"CREATE TABLE base2\n",
    "(学号   TEXT(10)    PRIMARY KEY    NOT NULL,\n",
    "姓名    TEXT(10)    NOT NULL,\n",
    "性别    TEXT(1)    NOT NULL,\n",
    "专业    TEXT(6),\n",
    "生源    TEXT(6),\n",
    "身高    INTEGER,\n",
    "电话    TEXT(6)\n",
    ");\"\"\")\n"
   ]
  },
  {
   "cell_type": "markdown",
   "metadata": {},
   "source": [
    "# 删除表"
   ]
  },
  {
   "cell_type": "code",
   "execution_count": 9,
   "metadata": {},
   "outputs": [
    {
     "data": {
      "text/plain": [
       "<sqlite3.Cursor at 0x2526cd14540>"
      ]
     },
     "execution_count": 9,
     "metadata": {},
     "output_type": "execute_result"
    }
   ],
   "source": [
    "\"\"\" 清空表中所有数据，但是保留表结构。 \"\"\"\n",
    "conn.execute(\"delete from base2\")"
   ]
  }
 ],
 "metadata": {
  "kernelspec": {
   "display_name": "Python 3",
   "language": "python",
   "name": "python3"
  },
  "language_info": {
   "codemirror_mode": {
    "name": "ipython",
    "version": 3
   },
   "file_extension": ".py",
   "mimetype": "text/x-python",
   "name": "python",
   "nbconvert_exporter": "python",
   "pygments_lexer": "ipython3",
   "version": "3.11.4"
  }
 },
 "nbformat": 4,
 "nbformat_minor": 2
}
