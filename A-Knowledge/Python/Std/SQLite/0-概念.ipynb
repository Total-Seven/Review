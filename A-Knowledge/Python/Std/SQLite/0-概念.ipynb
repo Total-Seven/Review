{
 "cells": [
  {
   "cell_type": "markdown",
   "metadata": {},
   "source": [
    "# SQLite"
   ]
  },
  {
   "cell_type": "markdown",
   "metadata": {},
   "source": [
    "1.  开源\n",
    "2.  基于磁盘文件\n",
    "3.  关系型数据库\n",
    "4.  多线程不冲突\n",
    "\n",
    "***\n"
   ]
  },
  {
   "cell_type": "markdown",
   "metadata": {},
   "source": [
    "### 关系型数据库\n",
    "*   数据：二维表\n",
    "    *   行：记录(record)\n",
    "    *   列：字段(field)\n",
    "\n",
    "***"
   ]
  },
  {
   "cell_type": "markdown",
   "metadata": {},
   "source": [
    "#### 使用\n",
    "1.  导入\n",
    "2.  创建Connection实例\n",
    "```python\n",
    "import sqlite3\n",
    "conn = sqlite3.connection('d:/test.db')\n",
    "```\n",
    " \n",
    "***\n"
   ]
  }
 ],
 "metadata": {
  "language_info": {
   "name": "python"
  }
 },
 "nbformat": 4,
 "nbformat_minor": 2
}
