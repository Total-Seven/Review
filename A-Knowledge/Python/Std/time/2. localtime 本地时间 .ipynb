{
 "cells": [
  {
   "cell_type": "markdown",
   "metadata": {},
   "source": [
    "#### localtime( time )"
   ]
  },
  {
   "cell_type": "code",
   "execution_count": 6,
   "metadata": {},
   "outputs": [
    {
     "name": "stdout",
     "output_type": "stream",
     "text": [
      "2023年10月11日\n"
     ]
    }
   ],
   "source": [
    "import time \n",
    "year,month,day = time.localtime()[:3]\n",
    "print(f'{year}年{month}月{day}日')"
   ]
  },
  {
   "cell_type": "code",
   "execution_count": 7,
   "metadata": {},
   "outputs": [
    {
     "name": "stdout",
     "output_type": "stream",
     "text": [
      "12::27::29\n"
     ]
    }
   ],
   "source": [
    "hour,minute,second = time.localtime()[3:6]\n",
    "print(f'{hour}::{minute}::{second}')"
   ]
  },
  {
   "cell_type": "code",
   "execution_count": 10,
   "metadata": {},
   "outputs": [
    {
     "name": "stdout",
     "output_type": "stream",
     "text": [
      "2023-10-11 12::28::40\n"
     ]
    }
   ],
   "source": [
    "year,month,day,hour,minute,second = time.localtime()[:6]\n",
    "print(f'{year}-{month}-{day} {hour}::{minute}::{second}')"
   ]
  }
 ],
 "metadata": {
  "kernelspec": {
   "display_name": "Python 3",
   "language": "python",
   "name": "python3"
  },
  "language_info": {
   "codemirror_mode": {
    "name": "ipython",
    "version": 3
   },
   "file_extension": ".py",
   "mimetype": "text/x-python",
   "name": "python",
   "nbconvert_exporter": "python",
   "pygments_lexer": "ipython3",
   "version": "3.11.4"
  }
 },
 "nbformat": 4,
 "nbformat_minor": 2
}
