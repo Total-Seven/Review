{
 "cells": [
  {
   "cell_type": "markdown",
   "metadata": {},
   "source": [
    "#### 1970年1月1日00:00:00到现在过了多久?\n",
    "单位是秒,精确到小数点后7位。"
   ]
  },
  {
   "cell_type": "code",
   "execution_count": 1,
   "metadata": {},
   "outputs": [
    {
     "data": {
      "text/plain": [
       "1696996875.5865092"
      ]
     },
     "execution_count": 1,
     "metadata": {},
     "output_type": "execute_result"
    }
   ],
   "source": [
    "import time \n",
    "time.time()"
   ]
  },
  {
   "cell_type": "markdown",
   "metadata": {},
   "source": [
    "What is the unix time stamp?\n",
    "> 什么是 unix 时间戳？  \n",
    "\n",
    "The unix time stamp is a way to track time as a running total of seconds.   \n",
    "> unix 时间戳是以秒为单位追踪时间的一种方法。  \n",
    "\n",
    "This count starts at the Unix Epoch on January 1st, 1970 at UTC.   \n",
    "> 计数从 1970 年 1 月 1 日（世界协调时）的 Unix 时间开始。\n",
    "\n",
    "Therefore, the unix time stamp is merely the number of seconds between a particular date and the Unix Epoch.   \n",
    "> 因此，Unix 时间戳只是特定日期与 Unix 时间之间的秒数。 \n",
    "\n",
    "It should also be pointed out that this point in time technically does not change no matter where you are located on the globe.   \n",
    "> 还应该指出的是，无论你位于地球的哪个角落，这个时间点在技术上都不会改变。\n",
    "\n",
    "This is very useful to computer systems for tracking and sorting dated information in dynamic and distributed applications both online and client side.\n",
    "> 这对计算机系统非常有用，可用于在线和客户端动态和分布式应用程序中跟踪和排序日期信息。"
   ]
  },
  {
   "cell_type": "markdown",
   "metadata": {},
   "source": [
    "#### 2038 年 1 月 19 日会发生什么？\n",
    "在这一天，Unix 时间戳将因 32 位溢出而停止工作。  \n",
    "在此之前，数以百万计的应用程序将需要采用新的时间戳约定，或者迁移到 64 位系统，从而为时间戳多争取 \"一点 \"时间。"
   ]
  }
 ],
 "metadata": {
  "kernelspec": {
   "display_name": "Python 3",
   "language": "python",
   "name": "python3"
  },
  "language_info": {
   "codemirror_mode": {
    "name": "ipython",
    "version": 3
   },
   "file_extension": ".py",
   "mimetype": "text/x-python",
   "name": "python",
   "nbconvert_exporter": "python",
   "pygments_lexer": "ipython3",
   "version": "3.11.4"
  }
 },
 "nbformat": 4,
 "nbformat_minor": 2
}
