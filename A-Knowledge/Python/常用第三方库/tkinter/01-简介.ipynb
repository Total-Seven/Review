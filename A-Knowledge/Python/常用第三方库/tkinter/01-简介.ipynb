{
 "cells": [
  {
   "cell_type": "markdown",
   "metadata": {},
   "source": [
    "# 概念"
   ]
  },
  {
   "cell_type": "markdown",
   "metadata": {},
   "source": [
    "IDLE就是一个用tkinter编写的程序。\n",
    "这种程序叫做“用户图形界面”————GUI（Graphical User Interface）。  \n",
    "\n",
    "就好比Scratch和Python，Scratch以图形化、简单、易懂的特点著称；而Python需要学习英语，手写代码，不是妥妥拽拽的图形界面。"
   ]
  },
  {
   "cell_type": "markdown",
   "metadata": {},
   "source": [
    "tkinter是Python自带的模块，也叫作“内置模块”。不需要下载（install），直接可以导入（import）使用。  \n",
    "使用tkinter可以快速写出一个GUI程序。  \n"
   ]
  }
 ],
 "metadata": {
  "language_info": {
   "name": "python"
  }
 },
 "nbformat": 4,
 "nbformat_minor": 2
}
