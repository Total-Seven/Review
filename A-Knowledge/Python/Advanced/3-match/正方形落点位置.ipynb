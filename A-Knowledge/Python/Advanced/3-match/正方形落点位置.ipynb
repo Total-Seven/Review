{
 "cells": [
  {
   "cell_type": "code",
   "execution_count": 19,
   "metadata": {},
   "outputs": [
    {
     "ename": "AttributeError",
     "evalue": "'NoneType' object has no attribute 'split'",
     "output_type": "error",
     "traceback": [
      "\u001b[1;31m---------------------------------------------------------------------------\u001b[0m",
      "\u001b[1;31mAttributeError\u001b[0m                            Traceback (most recent call last)",
      "\u001b[1;32me:\\1.007\\CodeReview\\A-Knowledge\\Python\\Advanced\\3-match\\正方形落点位置.ipynb Cell 1\u001b[0m line \u001b[0;36m1\n\u001b[0;32m     <a href='vscode-notebook-cell:/e%3A/1.007/CodeReview/A-Knowledge/Python/Advanced/3-match/%E6%AD%A3%E6%96%B9%E5%BD%A2%E8%90%BD%E7%82%B9%E4%BD%8D%E7%BD%AE.ipynb#W0sZmlsZQ%3D%3D?line=14'>15</a>\u001b[0m     t\u001b[39m.\u001b[39mfd(\u001b[39m200\u001b[39m)\n\u001b[0;32m     <a href='vscode-notebook-cell:/e%3A/1.007/CodeReview/A-Knowledge/Python/Advanced/3-match/%E6%AD%A3%E6%96%B9%E5%BD%A2%E8%90%BD%E7%82%B9%E4%BD%8D%E7%BD%AE.ipynb#W0sZmlsZQ%3D%3D?line=15'>16</a>\u001b[0m     t\u001b[39m.\u001b[39mright(\u001b[39m90\u001b[39m)\n\u001b[1;32m---> <a href='vscode-notebook-cell:/e%3A/1.007/CodeReview/A-Knowledge/Python/Advanced/3-match/%E6%AD%A3%E6%96%B9%E5%BD%A2%E8%90%BD%E7%82%B9%E4%BD%8D%E7%BD%AE.ipynb#W0sZmlsZQ%3D%3D?line=17'>18</a>\u001b[0m point \u001b[39m=\u001b[39m \u001b[39mtuple\u001b[39m(\u001b[39mmap\u001b[39m(\u001b[39mint\u001b[39m,t\u001b[39m.\u001b[39;49mtextinput(\u001b[39m\"\u001b[39;49m\u001b[39m坐标\u001b[39;49m\u001b[39m\"\u001b[39;49m, \u001b[39m\"\u001b[39;49m\u001b[39m请输入海龟要去的位置坐标(x,y)\u001b[39;49m\u001b[39m\"\u001b[39;49m)\u001b[39m.\u001b[39;49msplit(\u001b[39m\"\u001b[39m\u001b[39m,\u001b[39m\u001b[39m\"\u001b[39m)))\n\u001b[0;32m     <a href='vscode-notebook-cell:/e%3A/1.007/CodeReview/A-Knowledge/Python/Advanced/3-match/%E6%AD%A3%E6%96%B9%E5%BD%A2%E8%90%BD%E7%82%B9%E4%BD%8D%E7%BD%AE.ipynb#W0sZmlsZQ%3D%3D?line=18'>19</a>\u001b[0m x,y \u001b[39m=\u001b[39m point\n\u001b[0;32m     <a href='vscode-notebook-cell:/e%3A/1.007/CodeReview/A-Knowledge/Python/Advanced/3-match/%E6%AD%A3%E6%96%B9%E5%BD%A2%E8%90%BD%E7%82%B9%E4%BD%8D%E7%BD%AE.ipynb#W0sZmlsZQ%3D%3D?line=19'>20</a>\u001b[0m t\u001b[39m.\u001b[39mpenup()\n",
      "\u001b[1;31mAttributeError\u001b[0m: 'NoneType' object has no attribute 'split'"
     ]
    }
   ],
   "source": [
    "import turtle as t\n",
    "\n",
    "t.pensize(1)\n",
    "t.fillcolor(\"green\")\n",
    "t.pencolor(\"black\")\n",
    "t.shape(\"turtle\")\n",
    "\n",
    "\n",
    "\"\"\"\n",
    "(0, 0)    (200,0)\n",
    "(0, -200)    (200,-200)\n",
    "\n",
    "\"\"\"\n",
    "for i in range(4):\n",
    "    t.fd(200)\n",
    "    t.right(90)\n",
    "\n",
    "point = tuple(map(int,t.textinput(\"坐标\", \"请输入海龟要去的位置坐标(x,y)\").split(\",\")))\n",
    "x,y = point\n",
    "t.penup()\n",
    "t.goto(int(x),int(y))\n",
    "\n",
    "match point:\n",
    "    case (0,0):\n",
    "        print(\"在左上角\")\n",
    "    case (0,-200):\n",
    "        print(\"在左下角\")\n",
    "    \n",
    "    case (200,0):\n",
    "        print(\"在右上角\")\n",
    "    case (200,-200):\n",
    "        print(\"在右下角\")\n",
    "    \n",
    "    case (x,0) if 0 <= x < 200:\n",
    "        print(\"在上边\")\n",
    "    case (x,-200) if 0 <= x < 200:\n",
    "        print(\"在下边\")\n",
    "    case (0,y) if -200 < y < 0:\n",
    "        print(\"在左边\")\n",
    "    case (200,y) if -200 < y < 0:\n",
    "        print(\"在右边\")\n",
    "\n",
    "    case (x,y) if 0 < x < 200 and -200 < y < 0:\n",
    "        print(\"在里面呢！\")\n",
    "    case _:\n",
    "        print(\"在外面呢！\")\n",
    "\n",
    "\n",
    "t.done()"
   ]
  }
 ],
 "metadata": {
  "kernelspec": {
   "display_name": "Python 3",
   "language": "python",
   "name": "python3"
  },
  "language_info": {
   "codemirror_mode": {
    "name": "ipython",
    "version": 3
   },
   "file_extension": ".py",
   "mimetype": "text/x-python",
   "name": "python",
   "nbconvert_exporter": "python",
   "pygments_lexer": "ipython3",
   "version": "3.11.4"
  }
 },
 "nbformat": 4,
 "nbformat_minor": 2
}
